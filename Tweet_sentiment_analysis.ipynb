{
  "cells": [
    {
      "cell_type": "markdown",
      "metadata": {
        "id": "view-in-github",
        "colab_type": "text"
      },
      "source": [
        "<a href=\"https://colab.research.google.com/github/olgaselesnjova/Tweet-sentiment-analysis/blob/main/Tweet_sentiment_analysis.ipynb\" target=\"_parent\"><img src=\"https://colab.research.google.com/assets/colab-badge.svg\" alt=\"Open In Colab\"/></a>"
      ]
    },
    {
      "cell_type": "markdown",
      "id": "1a3d1bf9",
      "metadata": {
        "id": "1a3d1bf9"
      },
      "source": [
        "# GSOM 23SM1 ML Hometask 2"
      ]
    },
    {
      "cell_type": "markdown",
      "source": [
        "Kaggle competition  https://www.kaggle.com/competitions/gsom-23sm1-ml-hometask-2/leaderboard"
      ],
      "metadata": {
        "id": "c5GW1H0-vIxq"
      },
      "id": "c5GW1H0-vIxq"
    },
    {
      "cell_type": "code",
      "execution_count": null,
      "id": "330f35c0",
      "metadata": {
        "id": "330f35c0"
      },
      "outputs": [],
      "source": [
        "import numpy as np\n",
        "import pandas as pd\n",
        "import matplotlib.pyplot as plt\n",
        "import seaborn as sns\n",
        "\n",
        "sns.set_palette('muted') \n",
        "sns.set_color_codes('muted')\n",
        "sns.set_style('white') \n",
        "\n",
        "import warnings\n",
        "warnings.filterwarnings('ignore')"
      ]
    },
    {
      "cell_type": "code",
      "execution_count": null,
      "id": "b8dddd7b",
      "metadata": {
        "id": "b8dddd7b"
      },
      "outputs": [],
      "source": [
        "%config InlineBackend.figure_format = 'retina'"
      ]
    },
    {
      "cell_type": "code",
      "execution_count": null,
      "id": "40d386ec",
      "metadata": {
        "id": "40d386ec"
      },
      "outputs": [],
      "source": [
        "import plotly.io as pio\n",
        "import plotly.express as px\n",
        "import plotly.graph_objects as go"
      ]
    },
    {
      "cell_type": "code",
      "execution_count": null,
      "id": "a6b6583f",
      "metadata": {
        "id": "a6b6583f"
      },
      "outputs": [],
      "source": [
        "from sklearn.model_selection import train_test_split\n",
        "\n",
        "from sklearn.compose import ColumnTransformer # like Mapper\n",
        "\n",
        "from sklearn.impute import SimpleImputer\n",
        "\n",
        "from sklearn.preprocessing import OneHotEncoder\n",
        "\n",
        "from sklearn.pipeline import Pipeline\n",
        "\n",
        "from sklearn.linear_model import LogisticRegression\n",
        "\n",
        "from sklearn.linear_model import SGDClassifier\n",
        "\n",
        "from sklearn.metrics import balanced_accuracy_score\n",
        "from sklearn.metrics import classification_report\n",
        "from sklearn.metrics import ConfusionMatrixDisplay\n",
        "from sklearn.metrics import accuracy_score, precision_score, recall_score, f1_score\n",
        "\n",
        "from sklearn.feature_extraction.text import CountVectorizer\n",
        "from sklearn.feature_extraction.text import TfidfVectorizer\n",
        "\n",
        "from sklearn.model_selection import ParameterGrid\n",
        "\n",
        "from tqdm import tqdm"
      ]
    },
    {
      "cell_type": "code",
      "execution_count": null,
      "id": "e57ce716",
      "metadata": {
        "id": "e57ce716"
      },
      "outputs": [],
      "source": [
        "from xgboost import XGBClassifier\n",
        "import re    # for regular expressions \n",
        "import nltk  # for text manipulation \n",
        "import string \n",
        "from nltk.stem.porter import *\n",
        "import gensim#.models.doc2vec import LabeledSentence"
      ]
    },
    {
      "cell_type": "code",
      "execution_count": null,
      "id": "4b099249",
      "metadata": {
        "id": "4b099249"
      },
      "outputs": [],
      "source": [
        "# finction for the cleaning process\n",
        "def remove_pattern(input_txt, pattern):\n",
        "    r = re.findall(pattern, input_txt)\n",
        "    for i in r:\n",
        "        input_txt = re.sub(i, '', input_txt)\n",
        "    return input_txt "
      ]
    },
    {
      "cell_type": "code",
      "execution_count": null,
      "id": "4f691ed8",
      "metadata": {
        "id": "4f691ed8"
      },
      "outputs": [],
      "source": [
        "# for gensim.models.doc2vec\n",
        "def word_vector(tokens, size):\n",
        "    vec = np.zeros(size).reshape((1, size))\n",
        "    count = 0.\n",
        "    for word in tokens:\n",
        "        try:\n",
        "            vec += model_w2v.wv[word].reshape((1, size))\n",
        "            count += 1.\n",
        "        except KeyError: # handling the case where the token is not in vocabulary                                     \n",
        "            continue\n",
        "    if count != 0:\n",
        "        vec /= count\n",
        "    return vec"
      ]
    },
    {
      "cell_type": "markdown",
      "id": "a41c84e3",
      "metadata": {
        "id": "a41c84e3"
      },
      "source": [
        "# 1. Basic preprocessing"
      ]
    },
    {
      "cell_type": "markdown",
      "id": "3d061c5c",
      "metadata": {
        "id": "3d061c5c"
      },
      "source": [
        "## 1.1. Dataset"
      ]
    },
    {
      "cell_type": "code",
      "execution_count": null,
      "id": "d19a53c5",
      "metadata": {
        "id": "d19a53c5",
        "outputId": "c13ac1ec-b51d-4cc6-940d-5568b6bfbb8d"
      },
      "outputs": [
        {
          "data": {
            "text/html": [
              "<div>\n",
              "<style scoped>\n",
              "    .dataframe tbody tr th:only-of-type {\n",
              "        vertical-align: middle;\n",
              "    }\n",
              "\n",
              "    .dataframe tbody tr th {\n",
              "        vertical-align: top;\n",
              "    }\n",
              "\n",
              "    .dataframe thead th {\n",
              "        text-align: right;\n",
              "    }\n",
              "</style>\n",
              "<table border=\"1\" class=\"dataframe\">\n",
              "  <thead>\n",
              "    <tr style=\"text-align: right;\">\n",
              "      <th></th>\n",
              "      <th>UserName</th>\n",
              "      <th>ScreenName</th>\n",
              "      <th>Location</th>\n",
              "      <th>TweetAt</th>\n",
              "      <th>OriginalTweet</th>\n",
              "      <th>Sentiment</th>\n",
              "    </tr>\n",
              "    <tr>\n",
              "      <th>ID</th>\n",
              "      <th></th>\n",
              "      <th></th>\n",
              "      <th></th>\n",
              "      <th></th>\n",
              "      <th></th>\n",
              "      <th></th>\n",
              "    </tr>\n",
              "  </thead>\n",
              "  <tbody>\n",
              "    <tr>\n",
              "      <th>0</th>\n",
              "      <td>3801</td>\n",
              "      <td>48753</td>\n",
              "      <td>Vagabonds</td>\n",
              "      <td>16-03-2020</td>\n",
              "      <td>Coronavirus Australia: Woolworths to give elde...</td>\n",
              "      <td>Positive</td>\n",
              "    </tr>\n",
              "    <tr>\n",
              "      <th>1</th>\n",
              "      <td>3802</td>\n",
              "      <td>48754</td>\n",
              "      <td>NaN</td>\n",
              "      <td>16-03-2020</td>\n",
              "      <td>My food stock is not the only one which is emp...</td>\n",
              "      <td>Positive</td>\n",
              "    </tr>\n",
              "    <tr>\n",
              "      <th>2</th>\n",
              "      <td>3804</td>\n",
              "      <td>48756</td>\n",
              "      <td>ÃT: 36.319708,-82.363649</td>\n",
              "      <td>16-03-2020</td>\n",
              "      <td>As news of the regions first confirmed COVID-1...</td>\n",
              "      <td>Positive</td>\n",
              "    </tr>\n",
              "    <tr>\n",
              "      <th>3</th>\n",
              "      <td>3807</td>\n",
              "      <td>48759</td>\n",
              "      <td>Atlanta, GA USA</td>\n",
              "      <td>16-03-2020</td>\n",
              "      <td>Due to COVID-19 our retail store and classroom...</td>\n",
              "      <td>Positive</td>\n",
              "    </tr>\n",
              "    <tr>\n",
              "      <th>4</th>\n",
              "      <td>3808</td>\n",
              "      <td>48760</td>\n",
              "      <td>BHAVNAGAR,GUJRAT</td>\n",
              "      <td>16-03-2020</td>\n",
              "      <td>For corona prevention,we should stop to buy th...</td>\n",
              "      <td>Negative</td>\n",
              "    </tr>\n",
              "  </tbody>\n",
              "</table>\n",
              "</div>"
            ],
            "text/plain": [
              "    UserName  ScreenName                   Location     TweetAt  \\\n",
              "ID                                                                \n",
              "0       3801       48753                  Vagabonds  16-03-2020   \n",
              "1       3802       48754                        NaN  16-03-2020   \n",
              "2       3804       48756  ÃT: 36.319708,-82.363649  16-03-2020   \n",
              "3       3807       48759            Atlanta, GA USA  16-03-2020   \n",
              "4       3808       48760           BHAVNAGAR,GUJRAT  16-03-2020   \n",
              "\n",
              "                                        OriginalTweet Sentiment  \n",
              "ID                                                               \n",
              "0   Coronavirus Australia: Woolworths to give elde...  Positive  \n",
              "1   My food stock is not the only one which is emp...  Positive  \n",
              "2   As news of the regions first confirmed COVID-1...  Positive  \n",
              "3   Due to COVID-19 our retail store and classroom...  Positive  \n",
              "4   For corona prevention,we should stop to buy th...  Negative  "
            ]
          },
          "execution_count": 8,
          "metadata": {},
          "output_type": "execute_result"
        }
      ],
      "source": [
        "data = pd.read_csv('corona_train.csv', encoding='ISO-8859-1', index_col=0)\n",
        "data.head()"
      ]
    },
    {
      "cell_type": "code",
      "execution_count": null,
      "id": "6971f0a8",
      "metadata": {
        "id": "6971f0a8",
        "outputId": "097fbd7d-6e05-42ce-b0d9-5c0d8247215a"
      },
      "outputs": [
        {
          "name": "stdout",
          "output_type": "stream",
          "text": [
            "2\n",
            "(26973, 6)\n",
            "161838\n"
          ]
        }
      ],
      "source": [
        "print(data.ndim)\n",
        "print(data.shape)\n",
        "print(data.size)"
      ]
    },
    {
      "cell_type": "markdown",
      "id": "c35934e1",
      "metadata": {
        "id": "c35934e1"
      },
      "source": [
        "## 1.2. Value types"
      ]
    },
    {
      "cell_type": "code",
      "execution_count": null,
      "id": "3cf85585",
      "metadata": {
        "id": "3cf85585"
      },
      "outputs": [],
      "source": [
        "# converting to string\n",
        "data.UserName = data.UserName.astype(str)\n",
        "data.ScreenName = data.ScreenName.astype(str)"
      ]
    },
    {
      "cell_type": "markdown",
      "id": "49785f3d",
      "metadata": {
        "id": "49785f3d"
      },
      "source": [
        "**Conclusion:** \n",
        "\n",
        "* `UserName` and `ScreenName` are unique.\n",
        "\n",
        "* `Location` repeats."
      ]
    },
    {
      "cell_type": "markdown",
      "id": "cf980e4b",
      "metadata": {
        "id": "cf980e4b"
      },
      "source": [
        "## 1.3 Duplicates"
      ]
    },
    {
      "cell_type": "code",
      "execution_count": null,
      "id": "a41d9d7c",
      "metadata": {
        "id": "a41d9d7c",
        "outputId": "bef3ef0c-601a-48e1-bb7d-b61e3e12ed9e"
      },
      "outputs": [
        {
          "name": "stdout",
          "output_type": "stream",
          "text": [
            "<class 'pandas.core.frame.DataFrame'>\n",
            "Int64Index: 26973 entries, 0 to 26972\n",
            "Data columns (total 6 columns):\n",
            " #   Column         Non-Null Count  Dtype \n",
            "---  ------         --------------  ----- \n",
            " 0   UserName       26973 non-null  object\n",
            " 1   ScreenName     26973 non-null  object\n",
            " 2   Location       21264 non-null  object\n",
            " 3   TweetAt        26973 non-null  object\n",
            " 4   OriginalTweet  26973 non-null  object\n",
            " 5   Sentiment      26973 non-null  object\n",
            "dtypes: object(6)\n",
            "memory usage: 1.4+ MB\n"
          ]
        }
      ],
      "source": [
        "data.drop_duplicates(subset='OriginalTweet').info()"
      ]
    },
    {
      "cell_type": "markdown",
      "id": "d68fe565",
      "metadata": {
        "id": "d68fe565"
      },
      "source": [
        "**Conclusion:** `OriginalTweet` don't have duplicates."
      ]
    },
    {
      "cell_type": "markdown",
      "id": "bc4a203d",
      "metadata": {
        "id": "bc4a203d"
      },
      "source": [
        "# 1.4. Missing values"
      ]
    },
    {
      "cell_type": "code",
      "execution_count": null,
      "id": "fc440bac",
      "metadata": {
        "id": "fc440bac",
        "outputId": "af13767d-ce1c-4c51-f122-a2df9f214406"
      },
      "outputs": [
        {
          "data": {
            "text/html": [
              "<style type=\"text/css\">\n",
              "#T_97749_row0_col0, #T_97749_row1_col0, #T_97749_row3_col0, #T_97749_row4_col0, #T_97749_row5_col0 {\n",
              "  width: 10em;\n",
              "}\n",
              "#T_97749_row2_col0 {\n",
              "  width: 10em;\n",
              "  background: linear-gradient(90deg, #d65f5f 21.2%, transparent 21.2%);\n",
              "}\n",
              "</style>\n",
              "<table id=\"T_97749\">\n",
              "  <thead>\n",
              "    <tr>\n",
              "      <th class=\"blank level0\" >&nbsp;</th>\n",
              "      <th id=\"T_97749_level0_col0\" class=\"col_heading level0 col0\" >percent of NA</th>\n",
              "    </tr>\n",
              "  </thead>\n",
              "  <tbody>\n",
              "    <tr>\n",
              "      <th id=\"T_97749_level0_row0\" class=\"row_heading level0 row0\" >UserName</th>\n",
              "      <td id=\"T_97749_row0_col0\" class=\"data row0 col0\" >0.00%</td>\n",
              "    </tr>\n",
              "    <tr>\n",
              "      <th id=\"T_97749_level0_row1\" class=\"row_heading level0 row1\" >ScreenName</th>\n",
              "      <td id=\"T_97749_row1_col0\" class=\"data row1 col0\" >0.00%</td>\n",
              "    </tr>\n",
              "    <tr>\n",
              "      <th id=\"T_97749_level0_row2\" class=\"row_heading level0 row2\" >Location</th>\n",
              "      <td id=\"T_97749_row2_col0\" class=\"data row2 col0\" >21.17%</td>\n",
              "    </tr>\n",
              "    <tr>\n",
              "      <th id=\"T_97749_level0_row3\" class=\"row_heading level0 row3\" >TweetAt</th>\n",
              "      <td id=\"T_97749_row3_col0\" class=\"data row3 col0\" >0.00%</td>\n",
              "    </tr>\n",
              "    <tr>\n",
              "      <th id=\"T_97749_level0_row4\" class=\"row_heading level0 row4\" >OriginalTweet</th>\n",
              "      <td id=\"T_97749_row4_col0\" class=\"data row4 col0\" >0.00%</td>\n",
              "    </tr>\n",
              "    <tr>\n",
              "      <th id=\"T_97749_level0_row5\" class=\"row_heading level0 row5\" >Sentiment</th>\n",
              "      <td id=\"T_97749_row5_col0\" class=\"data row5 col0\" >0.00%</td>\n",
              "    </tr>\n",
              "  </tbody>\n",
              "</table>\n"
            ],
            "text/plain": [
              "<pandas.io.formats.style.Styler at 0x7fa0ae47ffa0>"
            ]
          },
          "execution_count": 9,
          "metadata": {},
          "output_type": "execute_result"
        }
      ],
      "source": [
        "# percentage of missing data\n",
        "(data.isna().sum() / len(data)).rename('percent of NA').to_frame().style.bar(vmax=1, vmin=0).format('{:.2%}')"
      ]
    },
    {
      "cell_type": "markdown",
      "id": "d92b174b",
      "metadata": {
        "id": "d92b174b"
      },
      "source": [
        "# 2. EDA"
      ]
    },
    {
      "cell_type": "markdown",
      "id": "6498d463",
      "metadata": {
        "id": "6498d463"
      },
      "source": [
        "## 2.1. `Sentiment` : target variable"
      ]
    },
    {
      "cell_type": "code",
      "execution_count": null,
      "id": "bfb397c2",
      "metadata": {
        "id": "bfb397c2",
        "outputId": "28420978-f0c0-43c3-96c4-7df90deb9e75"
      },
      "outputs": [
        {
          "data": {
            "text/plain": [
              "Positive              7446\n",
              "Negative              6533\n",
              "Neutral               4977\n",
              "Extremely Positive    4349\n",
              "Extremely Negative    3668\n",
              "Name: Sentiment, dtype: int64"
            ]
          },
          "execution_count": 9,
          "metadata": {},
          "output_type": "execute_result"
        }
      ],
      "source": [
        "data.Sentiment.value_counts()"
      ]
    },
    {
      "cell_type": "markdown",
      "id": "9b018727",
      "metadata": {
        "id": "9b018727"
      },
      "source": [
        " **Note**: let's look at `Extremely Negative` and `Extremely Positive` tweets!"
      ]
    },
    {
      "cell_type": "code",
      "execution_count": null,
      "id": "fcde1386",
      "metadata": {
        "id": "fcde1386",
        "outputId": "eda5568d-8da4-4122-f677-bb9603c20eda"
      },
      "outputs": [
        {
          "data": {
            "text/plain": [
              "\"Don't be panic in storing grocery, selfishness can create shortage of food and it may kill poor and daily wagers more than #Corona in the 3rd world country like Pakistan.  \\n #CoronaInPakistan #CoronaVirusUpdate #CoronavirusOutbreak https://t.co/k6sA9wIol4\""
            ]
          },
          "execution_count": 139,
          "metadata": {},
          "output_type": "execute_result"
        }
      ],
      "source": [
        "data[data.Sentiment == 'Extremely Negative'].OriginalTweet.sample(1).iloc[0]"
      ]
    },
    {
      "cell_type": "code",
      "execution_count": null,
      "id": "49f600d1",
      "metadata": {
        "id": "49f600d1",
        "outputId": "de6e9aa2-609b-437b-ca2a-a6ac3b0d6ee9"
      },
      "outputs": [
        {
          "data": {
            "text/plain": [
              "'@mayorportman Wells Fargo is committed to helping customers experiencing hardships from COVID-19. If in need of assistance, customers can call 1-800-219-9739 to speak with a trained specialist about options available for their consumer lending, small busi'"
            ]
          },
          "execution_count": 144,
          "metadata": {},
          "output_type": "execute_result"
        }
      ],
      "source": [
        "data[data.Sentiment == 'Extremely Positive'].OriginalTweet.sample(1).iloc[0]"
      ]
    },
    {
      "cell_type": "markdown",
      "id": "c8b72b2b",
      "metadata": {
        "id": "c8b72b2b"
      },
      "source": [
        "## 2.2. `TweetAt`"
      ]
    },
    {
      "cell_type": "code",
      "execution_count": null,
      "id": "511f8942",
      "metadata": {
        "id": "511f8942",
        "outputId": "ce165e18-c62e-4fd3-99f8-f15fcf4c40de"
      },
      "outputs": [
        {
          "data": {
            "text/plain": [
              "Timestamp('2020-03-16 00:00:00')"
            ]
          },
          "execution_count": 11,
          "metadata": {},
          "output_type": "execute_result"
        }
      ],
      "source": [
        "# for checking\n",
        "data.TweetAt.loc[0]"
      ]
    },
    {
      "cell_type": "code",
      "execution_count": null,
      "id": "575caa2d",
      "metadata": {
        "id": "575caa2d"
      },
      "outputs": [],
      "source": [
        "# converting to datetime\n",
        "data.TweetAt = pd.to_datetime(data.TweetAt)"
      ]
    },
    {
      "cell_type": "markdown",
      "id": "614da617",
      "metadata": {
        "id": "614da617"
      },
      "source": [
        "## 2.3. `Location`"
      ]
    },
    {
      "cell_type": "code",
      "execution_count": null,
      "id": "ec4dd1db",
      "metadata": {
        "id": "ec4dd1db",
        "outputId": "e26d821b-d3c2-4eda-f346-b36964b8145d"
      },
      "outputs": [
        {
          "data": {
            "text/plain": [
              "United States                    351\n",
              "London                           349\n",
              "London, England                  337\n",
              "New York, NY                     244\n",
              "Washington, DC                   238\n",
              "                                ... \n",
              "BANGKOK - THAILAND                 1\n",
              "London UK / Ubatuba SP Brasil      1\n",
              "Oshawa                             1\n",
              "philly                             1\n",
              "Haverford, PA                      1\n",
              "Name: Location, Length: 8811, dtype: int64"
            ]
          },
          "execution_count": 17,
          "metadata": {},
          "output_type": "execute_result"
        }
      ],
      "source": [
        "data.Location.value_counts()"
      ]
    },
    {
      "cell_type": "code",
      "execution_count": null,
      "id": "0562cfd7",
      "metadata": {
        "id": "0562cfd7",
        "outputId": "96e552e3-4550-47ec-d250-db50e347c32b"
      },
      "outputs": [
        {
          "data": {
            "text/plain": [
              "United States Russia Earth ?      4\n",
              "Moscow, Russia                    3\n",
              "Russia                            2\n",
              "space? the Chinese? Russians??    1\n",
              "Stavropol.Russia                  1\n",
              "King of Prussia, PA               1\n",
              "Russian Crypto City               1\n",
              "Name: Location, dtype: int64"
            ]
          },
          "execution_count": 568,
          "metadata": {},
          "output_type": "execute_result"
        }
      ],
      "source": [
        "data[data.Location.notna()]\\\n",
        "[data[data.Location.notna()].Location.str.lower().str.contains('russi')]\\\n",
        ".Location.value_counts()"
      ]
    },
    {
      "cell_type": "markdown",
      "id": "bbb8111d",
      "metadata": {
        "id": "bbb8111d"
      },
      "source": [
        "# 3. Feature Engineering"
      ]
    },
    {
      "cell_type": "markdown",
      "id": "547fea6b",
      "metadata": {
        "id": "547fea6b"
      },
      "source": [
        "## 3.1. Splitting `TweetAt`"
      ]
    },
    {
      "cell_type": "code",
      "execution_count": null,
      "id": "c6ab7b4c",
      "metadata": {
        "id": "c6ab7b4c"
      },
      "outputs": [],
      "source": [
        "data['month'] = data.TweetAt.dt.month\n",
        "data['day'] = data.TweetAt.dt.day\n",
        "data['dayofweek'] = data.TweetAt.dt.dayofweek\n",
        "data['weekday'] = data.TweetAt.dt.weekday # binary"
      ]
    },
    {
      "cell_type": "markdown",
      "id": "75cdf185",
      "metadata": {
        "id": "75cdf185"
      },
      "source": [
        "## 3.2. `tweetlength`"
      ]
    },
    {
      "cell_type": "code",
      "execution_count": null,
      "id": "77e2120e",
      "metadata": {
        "id": "77e2120e"
      },
      "outputs": [],
      "source": [
        "data['tweetlength'] = data.OriginalTweet.str.len()"
      ]
    },
    {
      "cell_type": "code",
      "execution_count": null,
      "id": "f9e264f0",
      "metadata": {
        "id": "f9e264f0",
        "outputId": "9c56d6e2-89d4-4d4a-bd49-4a210b57f7f6"
      },
      "outputs": [
        {
          "name": "stdout",
          "output_type": "stream",
          "text": [
            "<class 'pandas.core.frame.DataFrame'>\n",
            "Int64Index: 26973 entries, 0 to 26972\n",
            "Data columns (total 12 columns):\n",
            " #   Column         Non-Null Count  Dtype         \n",
            "---  ------         --------------  -----         \n",
            " 0   UserName       26973 non-null  object        \n",
            " 1   ScreenName     26973 non-null  object        \n",
            " 2   Location       21264 non-null  object        \n",
            " 3   TweetAt        26973 non-null  datetime64[ns]\n",
            " 4   OriginalTweet  26973 non-null  object        \n",
            " 5   Sentiment      26973 non-null  object        \n",
            " 6   month          26973 non-null  int64         \n",
            " 7   day            26973 non-null  int64         \n",
            " 8   dayofweek      26973 non-null  int64         \n",
            " 9   weekday        26973 non-null  int64         \n",
            " 10  tweetlength    26973 non-null  int64         \n",
            " 11  CleanTweet     26973 non-null  object        \n",
            "dtypes: datetime64[ns](1), int64(5), object(6)\n",
            "memory usage: 3.7+ MB\n"
          ]
        }
      ],
      "source": [
        "data.info()"
      ]
    },
    {
      "cell_type": "markdown",
      "id": "dc350230",
      "metadata": {
        "id": "dc350230"
      },
      "source": [
        "## 3.3. Cleaning : `CleanTweet`"
      ]
    },
    {
      "cell_type": "markdown",
      "id": "4bc6ca6e",
      "metadata": {
        "id": "4bc6ca6e"
      },
      "source": [
        "**Note:** let's clean up `OriginalTweet` by getting rid of `#`, `@`, enters, `http\\`. Moreover let's implement the `stemming` routine to make out of words more common base for the further analysis."
      ]
    },
    {
      "cell_type": "code",
      "execution_count": null,
      "id": "909c0c20",
      "metadata": {
        "id": "909c0c20",
        "outputId": "d42ac251-96b3-47a7-f914-47d403226582"
      },
      "outputs": [
        {
          "data": {
            "text/plain": [
              "\"All month there hasn't been crowding in the supermarkets or restaurants, however reducing all the hours and closing the malls means everyone is now using the same entrance and dependent on a single supermarket. #manila #lockdown #covid2019 #Philippines https://t.co/HxWs9LAnF9\""
            ]
          },
          "execution_count": 519,
          "metadata": {},
          "output_type": "execute_result"
        }
      ],
      "source": [
        "# for checking \n",
        "data['OriginalTweet'][5]"
      ]
    },
    {
      "cell_type": "code",
      "execution_count": null,
      "id": "f330427b",
      "metadata": {
        "id": "f330427b",
        "outputId": "0868d0fa-b2b6-43c2-a694-ef9ed6a1fad6"
      },
      "outputs": [
        {
          "data": {
            "text/plain": [
              "'month there hasn been crowd supermarket restaur howev reduc hour close mall mean everyon use same entranc depend singl supermarket manila lockdown covid2019 philippin hxws9lanf9'"
            ]
          },
          "execution_count": 522,
          "metadata": {},
          "output_type": "execute_result"
        }
      ],
      "source": [
        "# for checking \n",
        "data['CleanTweet'][5]"
      ]
    },
    {
      "cell_type": "code",
      "execution_count": null,
      "id": "a0bb7cd7",
      "metadata": {
        "id": "a0bb7cd7"
      },
      "outputs": [],
      "source": [
        "data['CleanTweet'] = data['OriginalTweet'].str.lower()\n",
        "\n",
        "data['CleanTweet'] = data['CleanTweet'].str.replace(\"[^a-zA-Z#]\", \" \") \n",
        "data['CleanTweet'] = data['CleanTweet'].apply(lambda x: x.replace('\\n', ' ')) \n",
        "\n",
        "data['CleanTweet'] = data['CleanTweet'].str.replace('[^A-Za-z0-9]+',' ', regex=True) \n",
        "data['CleanTweet'] = data['CleanTweet'].str.replace(r\"http\\S+\", \"\", regex=True) \n",
        "\n",
        "data['CleanTweet'] = np.vectorize(remove_pattern)(data['CleanTweet'], \"@[\\w]*\") \n",
        "data['CleanTweet'] = data['CleanTweet'].apply(lambda x: ' '.join([w for w in x.split() if len(w)>3]))"
      ]
    },
    {
      "cell_type": "code",
      "execution_count": null,
      "id": "cd1da293",
      "metadata": {
        "id": "cd1da293"
      },
      "outputs": [],
      "source": [
        "# stemming\n",
        "tokenized_tweets = data['CleanTweet'].apply(lambda x: x.split()) \n",
        "stemmer = PorterStemmer() \n",
        "tokenized_tweets = tokenized_tweets.apply(lambda x: [stemmer.stem(i) for i in x]) \n",
        "\n",
        "for i in range(len(tokenized_tweets)):\n",
        "    tokenized_tweets[i] = ' '.join(tokenized_tweets[i])   \n",
        "data['CleanTweet'] = tokenized_tweets"
      ]
    },
    {
      "cell_type": "markdown",
      "id": "8aea3ad7",
      "metadata": {
        "id": "8aea3ad7"
      },
      "source": [
        "## 3.4. Feature selection"
      ]
    },
    {
      "cell_type": "markdown",
      "id": "313b59a0",
      "metadata": {
        "id": "313b59a0"
      },
      "source": [
        "### `numeric_features`"
      ]
    },
    {
      "cell_type": "code",
      "execution_count": null,
      "id": "a0dbaf0a",
      "metadata": {
        "id": "a0dbaf0a",
        "outputId": "ba7a70e0-7576-4694-8bae-e3f2c4f22c64"
      },
      "outputs": [
        {
          "data": {
            "text/plain": [
              "['month', 'day', 'dayofweek', 'weekday', 'tweetlength']"
            ]
          },
          "execution_count": 16,
          "metadata": {},
          "output_type": "execute_result"
        }
      ],
      "source": [
        "numeric_features = data.select_dtypes(include=np.number).columns.tolist()\n",
        "numeric_features"
      ]
    },
    {
      "cell_type": "markdown",
      "id": "8182e7e3",
      "metadata": {
        "id": "8182e7e3"
      },
      "source": [
        "### `Location`"
      ]
    },
    {
      "cell_type": "markdown",
      "id": "5096e062",
      "metadata": {
        "id": "5096e062"
      },
      "source": [
        "### `CleanTweet`"
      ]
    },
    {
      "cell_type": "markdown",
      "id": "e22bd0ef",
      "metadata": {
        "id": "e22bd0ef"
      },
      "source": [
        "### `features`"
      ]
    },
    {
      "cell_type": "code",
      "execution_count": null,
      "id": "072563c9",
      "metadata": {
        "id": "072563c9"
      },
      "outputs": [],
      "source": [
        "features = numeric_features + ['Location', 'CleanTweet']"
      ]
    },
    {
      "cell_type": "markdown",
      "id": "65cea6b2",
      "metadata": {
        "id": "65cea6b2"
      },
      "source": [
        "# 4. Train & Test Samples Splitting"
      ]
    },
    {
      "cell_type": "code",
      "execution_count": null,
      "id": "dd4e4b00",
      "metadata": {
        "id": "dd4e4b00",
        "outputId": "28bbadae-e2db-4ef6-d34c-98e5161791b1"
      },
      "outputs": [
        {
          "data": {
            "text/html": [
              "<div>\n",
              "<style scoped>\n",
              "    .dataframe tbody tr th:only-of-type {\n",
              "        vertical-align: middle;\n",
              "    }\n",
              "\n",
              "    .dataframe tbody tr th {\n",
              "        vertical-align: top;\n",
              "    }\n",
              "\n",
              "    .dataframe thead th {\n",
              "        text-align: right;\n",
              "    }\n",
              "</style>\n",
              "<table border=\"1\" class=\"dataframe\">\n",
              "  <thead>\n",
              "    <tr style=\"text-align: right;\">\n",
              "      <th></th>\n",
              "      <th>UserName</th>\n",
              "      <th>ScreenName</th>\n",
              "      <th>Location</th>\n",
              "      <th>CleanTweet</th>\n",
              "    </tr>\n",
              "    <tr>\n",
              "      <th>ID</th>\n",
              "      <th></th>\n",
              "      <th></th>\n",
              "      <th></th>\n",
              "      <th></th>\n",
              "    </tr>\n",
              "  </thead>\n",
              "  <tbody>\n",
              "    <tr>\n",
              "      <th>0</th>\n",
              "      <td>3801</td>\n",
              "      <td>48753</td>\n",
              "      <td>Vagabonds</td>\n",
              "      <td>coronavirus australia woolworths to give elder...</td>\n",
              "    </tr>\n",
              "  </tbody>\n",
              "</table>\n",
              "</div>"
            ],
            "text/plain": [
              "    UserName  ScreenName   Location  \\\n",
              "ID                                    \n",
              "0       3801       48753  Vagabonds   \n",
              "\n",
              "                                           CleanTweet  \n",
              "ID                                                     \n",
              "0   coronavirus australia woolworths to give elder...  "
            ]
          },
          "execution_count": 48,
          "metadata": {},
          "output_type": "execute_result"
        }
      ],
      "source": [
        "data[features].head(1)"
      ]
    },
    {
      "cell_type": "code",
      "execution_count": null,
      "id": "0ce711d2",
      "metadata": {
        "id": "0ce711d2"
      },
      "outputs": [],
      "source": [
        "X, y = data[features], data.Sentiment"
      ]
    },
    {
      "cell_type": "code",
      "execution_count": null,
      "id": "a71a9c87",
      "metadata": {
        "id": "a71a9c87"
      },
      "outputs": [],
      "source": [
        "X_train, X_test, y_train, y_test = train_test_split(X, # Clean Tweet\n",
        "                                                    y,\n",
        "                                                    stratify=y,\n",
        "                                                    test_size = 0.25,\n",
        "                                                    random_state = 42)"
      ]
    },
    {
      "cell_type": "markdown",
      "id": "7961078f",
      "metadata": {
        "id": "7961078f"
      },
      "source": [
        "# 5. Model"
      ]
    },
    {
      "cell_type": "markdown",
      "id": "8fd93406",
      "metadata": {
        "id": "8fd93406"
      },
      "source": [
        "**Note:** since in the `pipeline` we will use `XGBClassifier()` that works only with numeric labels, it is necessary to convert 5-classes word labels to 5-classes numeric labels."
      ]
    },
    {
      "cell_type": "code",
      "execution_count": null,
      "id": "33587ee2",
      "metadata": {
        "id": "33587ee2"
      },
      "outputs": [],
      "source": [
        "y_train_num = y_train.replace({'Extremely Negative': 0,\n",
        "                'Negative': 1,\n",
        "                'Neutral': 2,\n",
        "                'Positive': 3,\n",
        "                'Extremely Positive': 4})\n",
        "\n",
        "y_test_num = y_test.replace({'Extremely Negative': 0,\n",
        "                'Negative': 1,\n",
        "                'Neutral': 2,\n",
        "                'Positive': 3,\n",
        "                'Extremely Positive': 4})\n",
        "\n",
        "y_num = y.replace({'Extremely Negative': 0,\n",
        "                'Negative': 1,\n",
        "                'Neutral': 2,\n",
        "                'Positive': 3,\n",
        "                'Extremely Positive': 4})\n"
      ]
    },
    {
      "cell_type": "markdown",
      "id": "c36b010d",
      "metadata": {
        "id": "c36b010d"
      },
      "source": [
        "## 5.1. `Word2Vec()`"
      ]
    },
    {
      "cell_type": "markdown",
      "id": "c62ad39f",
      "metadata": {
        "id": "c62ad39f"
      },
      "source": [
        "**Note:** we also tried:\n",
        "\n",
        "* the classifier `gensim.models.Word2Vec()` for vectorization of the `CleanTweet`;\n",
        "\n",
        "* the classifier `TfidfVectorizer()` for vectorization of the `CleanTweet`;\n",
        "\n",
        "But scores are not so high, so let's use the following pipeline: `XGBClassifier()` & `CountVectorizer()`\n",
        "\n",
        "# See 5.2. `XGBClassifier()` & `CountVectorizer()` (below)"
      ]
    },
    {
      "cell_type": "markdown",
      "id": "b0f5ff49",
      "metadata": {
        "id": "b0f5ff49"
      },
      "source": [
        "### `Train Sample`"
      ]
    },
    {
      "cell_type": "code",
      "execution_count": null,
      "id": "b36399ad",
      "metadata": {
        "id": "b36399ad",
        "outputId": "71c0a6ca-83dd-40ed-be49-d7064afde70f"
      },
      "outputs": [
        {
          "data": {
            "text/plain": [
              "0        #vegan #coronaviru those eat them anim pay the...\n",
              "1        wonder covid affect consum behavior media cons...\n",
              "2        extend transit period johnson chanc lead today...\n",
              "3        live govern urg peopl panic amid coronaviru cr...\n",
              "4        mani face financi uncertainti thi time consum ...\n",
              "                               ...                        \n",
              "20224    #genz continu outspend their march amount even...\n",
              "20225    look love milk market asset citi cannot contro...\n",
              "20226    where covid kill over peopl peopl classifi wor...\n",
              "20227    take time chat staff your local supermarket so...\n",
              "20228    wait aussi slang come sanni hand sanitis self ...\n",
              "Name: CleanTweet, Length: 20229, dtype: object"
            ]
          },
          "execution_count": 437,
          "metadata": {},
          "output_type": "execute_result"
        }
      ],
      "source": [
        "X_train['CleanTweet'].reset_index().drop(columns = 'ID')['CleanTweet']"
      ]
    },
    {
      "cell_type": "code",
      "execution_count": null,
      "id": "8d909c67",
      "metadata": {
        "id": "8d909c67"
      },
      "outputs": [],
      "source": [
        "?gensim.models.Word2Vec"
      ]
    },
    {
      "cell_type": "code",
      "execution_count": null,
      "id": "94ecb32e",
      "metadata": {
        "id": "94ecb32e"
      },
      "outputs": [],
      "source": [
        "tokenized_tweets = X_train['CleanTweet'].reset_index().drop(columns = 'ID')['CleanTweet'].apply(lambda x: x.split()) # tokenizing \n",
        "model_w2v = gensim.models.Word2Vec(\n",
        "            tokenized_tweets,\n",
        "            vector_size=200, # desired no. of features/independent variables\n",
        "            window=5, # context window size\n",
        "            min_count=2,\n",
        "            sg = 1, # 1 for skip-gram model\n",
        "            hs = 0,\n",
        "            negative = 10, # for negative sampling\n",
        "            workers= 2, # no.of cores\n",
        "            seed = 34) "
      ]
    },
    {
      "cell_type": "code",
      "execution_count": null,
      "id": "eb2a7903",
      "metadata": {
        "id": "eb2a7903",
        "outputId": "bb84ba54-9637-4581-c4a3-025c603bac7a"
      },
      "outputs": [
        {
          "name": "stdout",
          "output_type": "stream",
          "text": [
            "CPU times: user 1min 40s, sys: 321 ms, total: 1min 40s\n",
            "Wall time: 50.8 s\n"
          ]
        },
        {
          "data": {
            "text/plain": [
              "(6382766, 8012000)"
            ]
          },
          "execution_count": 444,
          "metadata": {},
          "output_type": "execute_result"
        }
      ],
      "source": [
        "%%time\n",
        "model_w2v.train(tokenized_tweets, total_examples= len(X_train['CleanTweet'].reset_index().drop(columns = 'ID')['CleanTweet']), epochs=20)"
      ]
    },
    {
      "cell_type": "code",
      "execution_count": null,
      "id": "c2a92875",
      "metadata": {
        "id": "c2a92875",
        "outputId": "d2e03689-c50c-41a6-ab14-1407c317e862"
      },
      "outputs": [
        {
          "data": {
            "text/plain": [
              "(20229, 200)"
            ]
          },
          "execution_count": 445,
          "metadata": {},
          "output_type": "execute_result"
        }
      ],
      "source": [
        "wordvec_arrays = np.zeros((len(tokenized_tweets), 200)) \n",
        "for i in range(len(tokenized_tweets)):\n",
        "    wordvec_arrays[i,:] = word_vector(tokenized_tweets[i], 200)\n",
        "    wordvec_df = pd.DataFrame(wordvec_arrays) \n",
        "\n",
        "wordvec_df.shape    "
      ]
    },
    {
      "cell_type": "code",
      "execution_count": null,
      "id": "13d91860",
      "metadata": {
        "id": "13d91860",
        "outputId": "11a60c90-1bfd-4320-90e0-d73d602b6d93"
      },
      "outputs": [
        {
          "data": {
            "text/html": [
              "<div>\n",
              "<style scoped>\n",
              "    .dataframe tbody tr th:only-of-type {\n",
              "        vertical-align: middle;\n",
              "    }\n",
              "\n",
              "    .dataframe tbody tr th {\n",
              "        vertical-align: top;\n",
              "    }\n",
              "\n",
              "    .dataframe thead th {\n",
              "        text-align: right;\n",
              "    }\n",
              "</style>\n",
              "<table border=\"1\" class=\"dataframe\">\n",
              "  <thead>\n",
              "    <tr style=\"text-align: right;\">\n",
              "      <th></th>\n",
              "      <th>0</th>\n",
              "      <th>1</th>\n",
              "      <th>2</th>\n",
              "      <th>3</th>\n",
              "      <th>4</th>\n",
              "      <th>5</th>\n",
              "      <th>6</th>\n",
              "      <th>7</th>\n",
              "      <th>8</th>\n",
              "      <th>9</th>\n",
              "      <th>...</th>\n",
              "      <th>190</th>\n",
              "      <th>191</th>\n",
              "      <th>192</th>\n",
              "      <th>193</th>\n",
              "      <th>194</th>\n",
              "      <th>195</th>\n",
              "      <th>196</th>\n",
              "      <th>197</th>\n",
              "      <th>198</th>\n",
              "      <th>199</th>\n",
              "    </tr>\n",
              "  </thead>\n",
              "  <tbody>\n",
              "    <tr>\n",
              "      <th>0</th>\n",
              "      <td>-0.051751</td>\n",
              "      <td>-0.044537</td>\n",
              "      <td>-0.200707</td>\n",
              "      <td>-0.109736</td>\n",
              "      <td>0.038835</td>\n",
              "      <td>0.175783</td>\n",
              "      <td>-0.182812</td>\n",
              "      <td>-0.107739</td>\n",
              "      <td>0.273552</td>\n",
              "      <td>-0.064675</td>\n",
              "      <td>...</td>\n",
              "      <td>0.003784</td>\n",
              "      <td>-0.136183</td>\n",
              "      <td>-0.038762</td>\n",
              "      <td>-0.151570</td>\n",
              "      <td>0.057526</td>\n",
              "      <td>-0.114788</td>\n",
              "      <td>0.014622</td>\n",
              "      <td>-0.222910</td>\n",
              "      <td>0.160510</td>\n",
              "      <td>0.279523</td>\n",
              "    </tr>\n",
              "    <tr>\n",
              "      <th>1</th>\n",
              "      <td>0.050729</td>\n",
              "      <td>0.140039</td>\n",
              "      <td>-0.197878</td>\n",
              "      <td>-0.129984</td>\n",
              "      <td>-0.053340</td>\n",
              "      <td>0.067513</td>\n",
              "      <td>0.056197</td>\n",
              "      <td>-0.010796</td>\n",
              "      <td>0.236575</td>\n",
              "      <td>-0.125987</td>\n",
              "      <td>...</td>\n",
              "      <td>-0.015700</td>\n",
              "      <td>-0.061843</td>\n",
              "      <td>-0.112149</td>\n",
              "      <td>-0.071067</td>\n",
              "      <td>-0.122530</td>\n",
              "      <td>0.007717</td>\n",
              "      <td>-0.073251</td>\n",
              "      <td>-0.120119</td>\n",
              "      <td>0.071475</td>\n",
              "      <td>0.189200</td>\n",
              "    </tr>\n",
              "    <tr>\n",
              "      <th>2</th>\n",
              "      <td>0.101446</td>\n",
              "      <td>-0.108234</td>\n",
              "      <td>-0.119818</td>\n",
              "      <td>-0.042895</td>\n",
              "      <td>-0.075223</td>\n",
              "      <td>-0.155524</td>\n",
              "      <td>0.020671</td>\n",
              "      <td>-0.139043</td>\n",
              "      <td>0.256966</td>\n",
              "      <td>-0.068759</td>\n",
              "      <td>...</td>\n",
              "      <td>-0.101825</td>\n",
              "      <td>-0.158375</td>\n",
              "      <td>-0.099776</td>\n",
              "      <td>-0.030219</td>\n",
              "      <td>-0.031052</td>\n",
              "      <td>-0.071683</td>\n",
              "      <td>-0.081879</td>\n",
              "      <td>-0.305749</td>\n",
              "      <td>0.089141</td>\n",
              "      <td>0.357997</td>\n",
              "    </tr>\n",
              "    <tr>\n",
              "      <th>3</th>\n",
              "      <td>0.071717</td>\n",
              "      <td>-0.075007</td>\n",
              "      <td>-0.055861</td>\n",
              "      <td>-0.113304</td>\n",
              "      <td>-0.133429</td>\n",
              "      <td>0.036673</td>\n",
              "      <td>-0.201717</td>\n",
              "      <td>-0.139199</td>\n",
              "      <td>0.274253</td>\n",
              "      <td>-0.211267</td>\n",
              "      <td>...</td>\n",
              "      <td>-0.104364</td>\n",
              "      <td>-0.264682</td>\n",
              "      <td>0.029880</td>\n",
              "      <td>-0.231075</td>\n",
              "      <td>0.043712</td>\n",
              "      <td>-0.049515</td>\n",
              "      <td>-0.149536</td>\n",
              "      <td>-0.197162</td>\n",
              "      <td>0.146548</td>\n",
              "      <td>0.243187</td>\n",
              "    </tr>\n",
              "    <tr>\n",
              "      <th>4</th>\n",
              "      <td>0.051998</td>\n",
              "      <td>0.052723</td>\n",
              "      <td>-0.014037</td>\n",
              "      <td>-0.104180</td>\n",
              "      <td>-0.110245</td>\n",
              "      <td>0.024416</td>\n",
              "      <td>0.026521</td>\n",
              "      <td>0.033264</td>\n",
              "      <td>0.313415</td>\n",
              "      <td>0.004546</td>\n",
              "      <td>...</td>\n",
              "      <td>-0.024282</td>\n",
              "      <td>-0.096959</td>\n",
              "      <td>-0.130850</td>\n",
              "      <td>-0.097781</td>\n",
              "      <td>0.019408</td>\n",
              "      <td>0.039178</td>\n",
              "      <td>-0.121717</td>\n",
              "      <td>-0.119683</td>\n",
              "      <td>0.092316</td>\n",
              "      <td>0.230641</td>\n",
              "    </tr>\n",
              "    <tr>\n",
              "      <th>...</th>\n",
              "      <td>...</td>\n",
              "      <td>...</td>\n",
              "      <td>...</td>\n",
              "      <td>...</td>\n",
              "      <td>...</td>\n",
              "      <td>...</td>\n",
              "      <td>...</td>\n",
              "      <td>...</td>\n",
              "      <td>...</td>\n",
              "      <td>...</td>\n",
              "      <td>...</td>\n",
              "      <td>...</td>\n",
              "      <td>...</td>\n",
              "      <td>...</td>\n",
              "      <td>...</td>\n",
              "      <td>...</td>\n",
              "      <td>...</td>\n",
              "      <td>...</td>\n",
              "      <td>...</td>\n",
              "      <td>...</td>\n",
              "      <td>...</td>\n",
              "    </tr>\n",
              "    <tr>\n",
              "      <th>20224</th>\n",
              "      <td>-0.023177</td>\n",
              "      <td>0.120299</td>\n",
              "      <td>-0.020615</td>\n",
              "      <td>-0.090328</td>\n",
              "      <td>-0.094162</td>\n",
              "      <td>0.021291</td>\n",
              "      <td>-0.038620</td>\n",
              "      <td>-0.071031</td>\n",
              "      <td>0.305046</td>\n",
              "      <td>0.056699</td>\n",
              "      <td>...</td>\n",
              "      <td>0.046144</td>\n",
              "      <td>-0.147147</td>\n",
              "      <td>-0.159276</td>\n",
              "      <td>-0.125667</td>\n",
              "      <td>0.095521</td>\n",
              "      <td>-0.000382</td>\n",
              "      <td>-0.163799</td>\n",
              "      <td>-0.176154</td>\n",
              "      <td>0.040097</td>\n",
              "      <td>0.167940</td>\n",
              "    </tr>\n",
              "    <tr>\n",
              "      <th>20225</th>\n",
              "      <td>0.069573</td>\n",
              "      <td>-0.072607</td>\n",
              "      <td>0.006331</td>\n",
              "      <td>0.033339</td>\n",
              "      <td>-0.166438</td>\n",
              "      <td>0.117257</td>\n",
              "      <td>-0.047195</td>\n",
              "      <td>-0.057481</td>\n",
              "      <td>0.285601</td>\n",
              "      <td>-0.054671</td>\n",
              "      <td>...</td>\n",
              "      <td>0.028839</td>\n",
              "      <td>-0.154447</td>\n",
              "      <td>0.021021</td>\n",
              "      <td>-0.115833</td>\n",
              "      <td>0.049686</td>\n",
              "      <td>-0.103277</td>\n",
              "      <td>-0.172301</td>\n",
              "      <td>-0.176502</td>\n",
              "      <td>0.132982</td>\n",
              "      <td>0.351658</td>\n",
              "    </tr>\n",
              "    <tr>\n",
              "      <th>20226</th>\n",
              "      <td>0.037648</td>\n",
              "      <td>0.058374</td>\n",
              "      <td>0.093051</td>\n",
              "      <td>-0.144906</td>\n",
              "      <td>-0.090264</td>\n",
              "      <td>0.069592</td>\n",
              "      <td>-0.085424</td>\n",
              "      <td>-0.088590</td>\n",
              "      <td>0.275738</td>\n",
              "      <td>-0.049539</td>\n",
              "      <td>...</td>\n",
              "      <td>-0.057388</td>\n",
              "      <td>-0.224494</td>\n",
              "      <td>0.032029</td>\n",
              "      <td>-0.291356</td>\n",
              "      <td>0.124357</td>\n",
              "      <td>-0.091748</td>\n",
              "      <td>-0.071598</td>\n",
              "      <td>-0.350660</td>\n",
              "      <td>0.013561</td>\n",
              "      <td>0.396635</td>\n",
              "    </tr>\n",
              "    <tr>\n",
              "      <th>20227</th>\n",
              "      <td>0.015816</td>\n",
              "      <td>-0.108101</td>\n",
              "      <td>-0.122439</td>\n",
              "      <td>-0.100083</td>\n",
              "      <td>-0.123894</td>\n",
              "      <td>0.090127</td>\n",
              "      <td>-0.108031</td>\n",
              "      <td>-0.189202</td>\n",
              "      <td>0.343669</td>\n",
              "      <td>-0.026409</td>\n",
              "      <td>...</td>\n",
              "      <td>-0.019602</td>\n",
              "      <td>-0.253605</td>\n",
              "      <td>0.006311</td>\n",
              "      <td>-0.051872</td>\n",
              "      <td>0.065004</td>\n",
              "      <td>-0.188964</td>\n",
              "      <td>-0.147057</td>\n",
              "      <td>-0.208443</td>\n",
              "      <td>0.041304</td>\n",
              "      <td>0.357939</td>\n",
              "    </tr>\n",
              "    <tr>\n",
              "      <th>20228</th>\n",
              "      <td>-0.015577</td>\n",
              "      <td>-0.045271</td>\n",
              "      <td>0.137670</td>\n",
              "      <td>-0.027241</td>\n",
              "      <td>-0.125060</td>\n",
              "      <td>-0.089662</td>\n",
              "      <td>-0.136101</td>\n",
              "      <td>-0.009559</td>\n",
              "      <td>0.160662</td>\n",
              "      <td>-0.073751</td>\n",
              "      <td>...</td>\n",
              "      <td>0.078242</td>\n",
              "      <td>-0.090597</td>\n",
              "      <td>0.152112</td>\n",
              "      <td>-0.174527</td>\n",
              "      <td>0.112210</td>\n",
              "      <td>-0.105887</td>\n",
              "      <td>-0.006316</td>\n",
              "      <td>-0.088884</td>\n",
              "      <td>0.018035</td>\n",
              "      <td>0.330256</td>\n",
              "    </tr>\n",
              "  </tbody>\n",
              "</table>\n",
              "<p>20229 rows × 200 columns</p>\n",
              "</div>"
            ],
            "text/plain": [
              "            0         1         2         3         4         5         6    \\\n",
              "0     -0.051751 -0.044537 -0.200707 -0.109736  0.038835  0.175783 -0.182812   \n",
              "1      0.050729  0.140039 -0.197878 -0.129984 -0.053340  0.067513  0.056197   \n",
              "2      0.101446 -0.108234 -0.119818 -0.042895 -0.075223 -0.155524  0.020671   \n",
              "3      0.071717 -0.075007 -0.055861 -0.113304 -0.133429  0.036673 -0.201717   \n",
              "4      0.051998  0.052723 -0.014037 -0.104180 -0.110245  0.024416  0.026521   \n",
              "...         ...       ...       ...       ...       ...       ...       ...   \n",
              "20224 -0.023177  0.120299 -0.020615 -0.090328 -0.094162  0.021291 -0.038620   \n",
              "20225  0.069573 -0.072607  0.006331  0.033339 -0.166438  0.117257 -0.047195   \n",
              "20226  0.037648  0.058374  0.093051 -0.144906 -0.090264  0.069592 -0.085424   \n",
              "20227  0.015816 -0.108101 -0.122439 -0.100083 -0.123894  0.090127 -0.108031   \n",
              "20228 -0.015577 -0.045271  0.137670 -0.027241 -0.125060 -0.089662 -0.136101   \n",
              "\n",
              "            7         8         9    ...       190       191       192  \\\n",
              "0     -0.107739  0.273552 -0.064675  ...  0.003784 -0.136183 -0.038762   \n",
              "1     -0.010796  0.236575 -0.125987  ... -0.015700 -0.061843 -0.112149   \n",
              "2     -0.139043  0.256966 -0.068759  ... -0.101825 -0.158375 -0.099776   \n",
              "3     -0.139199  0.274253 -0.211267  ... -0.104364 -0.264682  0.029880   \n",
              "4      0.033264  0.313415  0.004546  ... -0.024282 -0.096959 -0.130850   \n",
              "...         ...       ...       ...  ...       ...       ...       ...   \n",
              "20224 -0.071031  0.305046  0.056699  ...  0.046144 -0.147147 -0.159276   \n",
              "20225 -0.057481  0.285601 -0.054671  ...  0.028839 -0.154447  0.021021   \n",
              "20226 -0.088590  0.275738 -0.049539  ... -0.057388 -0.224494  0.032029   \n",
              "20227 -0.189202  0.343669 -0.026409  ... -0.019602 -0.253605  0.006311   \n",
              "20228 -0.009559  0.160662 -0.073751  ...  0.078242 -0.090597  0.152112   \n",
              "\n",
              "            193       194       195       196       197       198       199  \n",
              "0     -0.151570  0.057526 -0.114788  0.014622 -0.222910  0.160510  0.279523  \n",
              "1     -0.071067 -0.122530  0.007717 -0.073251 -0.120119  0.071475  0.189200  \n",
              "2     -0.030219 -0.031052 -0.071683 -0.081879 -0.305749  0.089141  0.357997  \n",
              "3     -0.231075  0.043712 -0.049515 -0.149536 -0.197162  0.146548  0.243187  \n",
              "4     -0.097781  0.019408  0.039178 -0.121717 -0.119683  0.092316  0.230641  \n",
              "...         ...       ...       ...       ...       ...       ...       ...  \n",
              "20224 -0.125667  0.095521 -0.000382 -0.163799 -0.176154  0.040097  0.167940  \n",
              "20225 -0.115833  0.049686 -0.103277 -0.172301 -0.176502  0.132982  0.351658  \n",
              "20226 -0.291356  0.124357 -0.091748 -0.071598 -0.350660  0.013561  0.396635  \n",
              "20227 -0.051872  0.065004 -0.188964 -0.147057 -0.208443  0.041304  0.357939  \n",
              "20228 -0.174527  0.112210 -0.105887 -0.006316 -0.088884  0.018035  0.330256  \n",
              "\n",
              "[20229 rows x 200 columns]"
            ]
          },
          "execution_count": 426,
          "metadata": {},
          "output_type": "execute_result"
        }
      ],
      "source": [
        "wordvec_df"
      ]
    },
    {
      "cell_type": "markdown",
      "id": "6ae80b2f",
      "metadata": {
        "id": "6ae80b2f"
      },
      "source": [
        "### `Test Sample`"
      ]
    },
    {
      "cell_type": "code",
      "execution_count": null,
      "id": "286ab97b",
      "metadata": {
        "id": "286ab97b",
        "outputId": "36ca80ab-58df-4e23-a112-9f296b6a4b9c"
      },
      "outputs": [
        {
          "data": {
            "text/plain": [
              "0       rough weekend albert heijn supermarket restock...\n",
              "1       #coronavirusoutbreak #cdc #covid groceri store...\n",
              "2       dear sethi have thought bank employe home loan...\n",
              "3       everyon worri about #coronaviru #toiletpap thi...\n",
              "4       covid scam target deposit account rampant join...\n",
              "                              ...                        \n",
              "6739       groceri store #coronaviru tip point http suenv\n",
              "6740    #paracetamol first line medicin cure #coronavi...\n",
              "6741    covid wind turbin price increas renew renew en...\n",
              "6742    way hacker scammer exploit panic espionag comm...\n",
              "6743    instead hear more about selfish panick terribl...\n",
              "Name: CleanTweet, Length: 6744, dtype: object"
            ]
          },
          "execution_count": 431,
          "metadata": {},
          "output_type": "execute_result"
        }
      ],
      "source": [
        "X_test['CleanTweet'].reset_index().drop(columns = 'ID')['CleanTweet']"
      ]
    },
    {
      "cell_type": "code",
      "execution_count": null,
      "id": "ccba204b",
      "metadata": {
        "id": "ccba204b"
      },
      "outputs": [],
      "source": [
        "tokenized_tweets = X_test['CleanTweet'].reset_index().drop(columns = 'ID')['CleanTweet'].apply(lambda x: x.split())"
      ]
    },
    {
      "cell_type": "code",
      "execution_count": null,
      "id": "1e4f4fbd",
      "metadata": {
        "id": "1e4f4fbd",
        "outputId": "82c03859-6ddb-4c6b-fcae-0b818fea1742"
      },
      "outputs": [
        {
          "data": {
            "text/plain": [
              "(6744, 200)"
            ]
          },
          "execution_count": 447,
          "metadata": {},
          "output_type": "execute_result"
        }
      ],
      "source": [
        "wordvec_arrays = np.zeros((len(tokenized_tweets), 200)) \n",
        "for i in range(len(tokenized_tweets)):\n",
        "    wordvec_arrays[i,:] = word_vector(tokenized_tweets[i], 200)\n",
        "    wordvec_df_test = pd.DataFrame(wordvec_arrays) \n",
        "\n",
        "wordvec_df_test.shape   "
      ]
    },
    {
      "cell_type": "markdown",
      "id": "8e454878",
      "metadata": {
        "id": "8e454878"
      },
      "source": [
        "### Pipeline `XGBClassifier`"
      ]
    },
    {
      "cell_type": "code",
      "execution_count": null,
      "id": "c132c439",
      "metadata": {
        "id": "c132c439"
      },
      "outputs": [],
      "source": [
        "pipeline = Pipeline(steps = [('XGBClassifier', XGBClassifier(max_depth=6, n_estimators=700, nthread= 3))])"
      ]
    },
    {
      "cell_type": "code",
      "execution_count": null,
      "id": "e48c0765",
      "metadata": {
        "id": "e48c0765",
        "outputId": "25c2dc3b-28db-4fa7-8609-2f7b0adda85d"
      },
      "outputs": [
        {
          "name": "stdout",
          "output_type": "stream",
          "text": [
            "CPU times: user 1h 20min 20s, sys: 18.9 s, total: 1h 20min 39s\n",
            "Wall time: 28min 47s\n"
          ]
        }
      ],
      "source": [
        "%%time\n",
        "pipeline.fit(wordvec_df, y_train_num)\n",
        "\n",
        "tf_pred = pipeline.predict(wordvec_df)\n",
        "tf_pred_test = pipeline.predict(wordvec_df_test)"
      ]
    },
    {
      "cell_type": "markdown",
      "id": "6289bc51",
      "metadata": {
        "id": "6289bc51"
      },
      "source": [
        "## 5.2. `XGBClassifier()` & `CountVectorizer()`"
      ]
    },
    {
      "cell_type": "markdown",
      "id": "419e3619",
      "metadata": {
        "id": "419e3619"
      },
      "source": [
        "**Note:** 5.3. `GridSearch()` for `XGBClassifier()` & `CountVectorizer()` determined optimal parameters:\n",
        "\n",
        "* xgb_learning_rate: 0.4\n",
        "* xgb_max_depth: 5\n",
        "* xgb_n_estimators: 600"
      ]
    },
    {
      "cell_type": "code",
      "execution_count": null,
      "id": "c79aa551",
      "metadata": {
        "id": "c79aa551"
      },
      "outputs": [],
      "source": [
        "pipeline = Pipeline(steps = [('count_vec', CountVectorizer(stop_words=\"english\", \n",
        "                                                           analyzer='word', \n",
        "                                                           ngram_range=(1, 3), \n",
        "                                                           max_df=1.0, \n",
        "                                                           min_df=1, \n",
        "                                                           max_features=None)),\n",
        "                             \n",
        "                            ('XGBClassifier', XGBClassifier(max_depth=5, \n",
        "                                                            n_estimators=600, \n",
        "                                                            learning_rate = 0.4, \n",
        "                                                            nthread= 3))])"
      ]
    },
    {
      "cell_type": "code",
      "execution_count": null,
      "id": "0fcdc939",
      "metadata": {
        "id": "0fcdc939",
        "outputId": "73a18d27-db05-41ff-fff1-43bb7753df7a"
      },
      "outputs": [
        {
          "name": "stdout",
          "output_type": "stream",
          "text": [
            "CPU times: user 24min 38s, sys: 13.2 s, total: 24min 51s\n",
            "Wall time: 10min 3s\n"
          ]
        }
      ],
      "source": [
        "%%time\n",
        "pipeline.fit(X_train.CleanTweet, y_train_num)\n",
        "\n",
        "tf_pred_train = pipeline.predict(X_train.CleanTweet)\n",
        "tf_pred_test = pipeline.predict(X_test.CleanTweet)"
      ]
    },
    {
      "cell_type": "markdown",
      "id": "07676171",
      "metadata": {
        "id": "07676171"
      },
      "source": [
        "## 5.3. `GridSearch()` for `XGBClassifier()` & `CountVectorizer()`"
      ]
    },
    {
      "cell_type": "code",
      "execution_count": null,
      "id": "f54b1383",
      "metadata": {
        "id": "f54b1383",
        "outputId": "5d3156ed-9b48-4776-b97e-622712318216"
      },
      "outputs": [
        {
          "name": "stderr",
          "output_type": "stream",
          "text": [
            "100%|██████████████████████████████████████████| 9/9 [1:08:36<00:00, 457.37s/it]"
          ]
        },
        {
          "name": "stdout",
          "output_type": "stream",
          "text": [
            "CPU times: user 3h 20min 17s, sys: 37.8 s, total: 3h 20min 55s\n",
            "Wall time: 1h 8min 36s\n"
          ]
        },
        {
          "name": "stderr",
          "output_type": "stream",
          "text": [
            "\n"
          ]
        },
        {
          "data": {
            "text/plain": [
              "[{'params': {'n_estimators': 600, 'xgb_learning_rate': 0.2},\n",
              "  'precision_train': 0.8602533579511242,\n",
              "  'precision_test': 0.5978361276185351,\n",
              "  'recall_train': 0.8475135214983179,\n",
              "  'recall_test': 0.588493539987323,\n",
              "  'f1_train': 0.8503720174538696,\n",
              "  'f1_test': 0.5885371524470866,\n",
              "  'accuracy_train': 0.8440852241831035,\n",
              "  'accuracy_test': 0.5802194543297746},\n",
              " {'params': {'n_estimators': 600, 'xgb_learning_rate': 0.3},\n",
              "  'precision_train': 0.9001055763896986,\n",
              "  'precision_test': 0.6048107721191295,\n",
              "  'recall_train': 0.8928411392053043,\n",
              "  'recall_test': 0.5970870245784513,\n",
              "  'f1_train': 0.8943356042084872,\n",
              "  'f1_test': 0.5973396550949013,\n",
              "  'accuracy_train': 0.8889218448761679,\n",
              "  'accuracy_test': 0.5876334519572953},\n",
              " {'params': {'n_estimators': 600, 'xgb_learning_rate': 0.4},\n",
              "  'precision_train': 0.9274101402726747,\n",
              "  'precision_test': 0.6078354476196175,\n",
              "  'recall_train': 0.9222275301428319,\n",
              "  'recall_test': 0.5979508286083149,\n",
              "  'f1_train': 0.9233662937579646,\n",
              "  'f1_test': 0.5993820869711921,\n",
              "  'accuracy_train': 0.9189777052746058,\n",
              "  'accuracy_test': 0.5919335705812574},\n",
              " {'params': {'n_estimators': 700, 'xgb_learning_rate': 0.2},\n",
              "  'precision_train': 0.8751005623530922,\n",
              "  'precision_test': 0.6020565224021117,\n",
              "  'recall_train': 0.8635658083281583,\n",
              "  'recall_test': 0.5917480445275694,\n",
              "  'f1_train': 0.8662646294516158,\n",
              "  'f1_test': 0.5924416712333971,\n",
              "  'accuracy_train': 0.86049730584804,\n",
              "  'accuracy_test': 0.583926453143535},\n",
              " {'params': {'n_estimators': 700, 'xgb_learning_rate': 0.3},\n",
              "  'precision_train': 0.9169075071987134,\n",
              "  'precision_test': 0.6072801292527504,\n",
              "  'recall_train': 0.9107016727686403,\n",
              "  'recall_test': 0.5974970210936875,\n",
              "  'f1_train': 0.9120586161387664,\n",
              "  'f1_test': 0.5989070193882073,\n",
              "  'accuracy_train': 0.9072124178160067,\n",
              "  'accuracy_test': 0.5898576512455516},\n",
              " {'params': {'n_estimators': 700, 'xgb_learning_rate': 0.4},\n",
              "  'precision_train': 0.9415967125637188,\n",
              "  'precision_test': 0.605945777307691,\n",
              "  'recall_train': 0.9384969189517797,\n",
              "  'recall_test': 0.5961460897530149,\n",
              "  'f1_train': 0.9389431335982025,\n",
              "  'f1_test': 0.5978865211634308,\n",
              "  'accuracy_train': 0.9354392209204607,\n",
              "  'accuracy_test': 0.590005931198102},\n",
              " {'params': {'n_estimators': 800, 'xgb_learning_rate': 0.2},\n",
              "  'precision_train': 0.8887284028641865,\n",
              "  'precision_test': 0.6059921999331841,\n",
              "  'recall_train': 0.8790625589984463,\n",
              "  'recall_test': 0.5962195644786998,\n",
              "  'f1_train': 0.8812044932838303,\n",
              "  'f1_test': 0.5970296223726407,\n",
              "  'accuracy_train': 0.8757724059518514,\n",
              "  'accuracy_test': 0.588226571767497},\n",
              " {'params': {'n_estimators': 800, 'xgb_learning_rate': 0.3},\n",
              "  'precision_train': 0.9282694011806314,\n",
              "  'precision_test': 0.6069274203254672,\n",
              "  'recall_train': 0.9235606534195698,\n",
              "  'recall_test': 0.5982820891579503,\n",
              "  'f1_train': 0.9244673795635606,\n",
              "  'f1_test': 0.5992984452648022,\n",
              "  'accuracy_train': 0.9201641208166493,\n",
              "  'accuracy_test': 0.5904507710557533},\n",
              " {'params': {'n_estimators': 800, 'xgb_learning_rate': 0.4},\n",
              "  'precision_train': 0.9508803961085157,\n",
              "  'precision_test': 0.6030130526966271,\n",
              "  'recall_train': 0.9489165501800041,\n",
              "  'recall_test': 0.5950773564293621,\n",
              "  'f1_train': 0.9490169711669616,\n",
              "  'f1_test': 0.5962877348047767,\n",
              "  'accuracy_train': 0.9459686588560977,\n",
              "  'accuracy_test': 0.5888196915776986}]"
            ]
          },
          "execution_count": 85,
          "metadata": {},
          "output_type": "execute_result"
        }
      ],
      "source": [
        "%%time\n",
        "params_grid = dict(xgb_learning_rate = [0.2, 0.3, 0.4], n_estimators = [600, 700, 800])\n",
        "\n",
        "results = []\n",
        "\n",
        "for params in tqdm(ParameterGrid(params_grid)):\n",
        "    \n",
        "    pipeline = Pipeline(steps = [('count_vec', CountVectorizer(stop_words=\"english\", \n",
        "                                                               analyzer='word', \n",
        "                                                               ngram_range=(1, 3), \n",
        "                                                               max_df=1.0, \n",
        "                                                               min_df=1, \n",
        "                                                               max_features=None)),\n",
        "\n",
        "                                ('XGBClassifier', XGBClassifier(max_depth=5, \n",
        "                                                                n_estimators = params['n_estimators'], \n",
        "                                                                learning_rate = params['xgb_learning_rate'], \n",
        "                                                                nthread= 3))])\n",
        "    \n",
        "    \n",
        "    \n",
        "    \n",
        "    pipeline.fit(X_train.CleanTweet, y_train_num)\n",
        "    \n",
        "    pipe_preds_train = pipeline.predict(X_train.CleanTweet)\n",
        "    pipe_preds_test = pipeline.predict(X_test.CleanTweet)\n",
        "    \n",
        "    results.append(dict(\n",
        "        \n",
        "        params=params,\n",
        "        \n",
        "        precision_train = precision_score(y_true=y_train_num, y_pred=pipe_preds_train, average='macro'),\n",
        "        precision_test = precision_score(y_true=y_test_num, y_pred=pipe_preds_test, average='macro'),       \n",
        "        \n",
        "        recall_train = recall_score(y_true=y_train_num, y_pred=pipe_preds_train, average='macro'),\n",
        "        recall_test = recall_score(y_true=y_test_num, y_pred=pipe_preds_test, average='macro'),\n",
        "        \n",
        "        f1_train = f1_score(y_true=y_train_num, y_pred=pipe_preds_train, average='macro'),\n",
        "        f1_test = f1_score(y_true=y_test_num, y_pred=pipe_preds_test, average='macro'),\n",
        "    \n",
        "        accuracy_train = accuracy_score(y_true=y_train_num, y_pred=pipe_preds_train),\n",
        "        accuracy_test = accuracy_score(y_true=y_test_num, y_pred=pipe_preds_test)\n",
        "    ))\n",
        "results\n"
      ]
    },
    {
      "cell_type": "code",
      "execution_count": null,
      "id": "0fb7256a",
      "metadata": {
        "id": "0fb7256a",
        "outputId": "4625bacb-1427-418f-a6a3-c23c00d89baa"
      },
      "outputs": [
        {
          "data": {
            "text/html": [
              "<style type=\"text/css\">\n",
              "#T_9a576_row0_col1 {\n",
              "  width: 10em;\n",
              "  background: linear-gradient(90deg, #d65f5f 92.7%, transparent 92.7%);\n",
              "}\n",
              "#T_9a576_row0_col2 {\n",
              "  width: 10em;\n",
              "  background: linear-gradient(90deg, #d65f5f 60.8%, transparent 60.8%);\n",
              "}\n",
              "#T_9a576_row0_col3 {\n",
              "  width: 10em;\n",
              "  background: linear-gradient(90deg, #d65f5f 92.2%, transparent 92.2%);\n",
              "}\n",
              "#T_9a576_row0_col4, #T_9a576_row1_col4, #T_9a576_row2_col6, #T_9a576_row8_col2 {\n",
              "  width: 10em;\n",
              "  background: linear-gradient(90deg, #d65f5f 59.8%, transparent 59.8%);\n",
              "}\n",
              "#T_9a576_row0_col5 {\n",
              "  width: 10em;\n",
              "  background: linear-gradient(90deg, #d65f5f 92.3%, transparent 92.3%);\n",
              "}\n",
              "#T_9a576_row0_col6, #T_9a576_row1_col6, #T_9a576_row3_col6 {\n",
              "  width: 10em;\n",
              "  background: linear-gradient(90deg, #d65f5f 59.9%, transparent 59.9%);\n",
              "}\n",
              "#T_9a576_row0_col7 {\n",
              "  width: 10em;\n",
              "  background: linear-gradient(90deg, #d65f5f 91.9%, transparent 91.9%);\n",
              "}\n",
              "#T_9a576_row0_col8, #T_9a576_row7_col4, #T_9a576_row7_col6 {\n",
              "  width: 10em;\n",
              "  background: linear-gradient(90deg, #d65f5f 59.2%, transparent 59.2%);\n",
              "}\n",
              "#T_9a576_row1_col1 {\n",
              "  width: 10em;\n",
              "  background: linear-gradient(90deg, #d65f5f 92.8%, transparent 92.8%);\n",
              "}\n",
              "#T_9a576_row1_col2, #T_9a576_row3_col2 {\n",
              "  width: 10em;\n",
              "  background: linear-gradient(90deg, #d65f5f 60.7%, transparent 60.7%);\n",
              "}\n",
              "#T_9a576_row1_col3, #T_9a576_row1_col5 {\n",
              "  width: 10em;\n",
              "  background: linear-gradient(90deg, #d65f5f 92.4%, transparent 92.4%);\n",
              "}\n",
              "#T_9a576_row1_col7 {\n",
              "  width: 10em;\n",
              "  background: linear-gradient(90deg, #d65f5f 92.0%, transparent 92.0%);\n",
              "}\n",
              "#T_9a576_row1_col8, #T_9a576_row2_col8, #T_9a576_row3_col8 {\n",
              "  width: 10em;\n",
              "  background: linear-gradient(90deg, #d65f5f 59.0%, transparent 59.0%);\n",
              "}\n",
              "#T_9a576_row2_col1 {\n",
              "  width: 10em;\n",
              "  background: linear-gradient(90deg, #d65f5f 94.2%, transparent 94.2%);\n",
              "}\n",
              "#T_9a576_row2_col2, #T_9a576_row5_col2 {\n",
              "  width: 10em;\n",
              "  background: linear-gradient(90deg, #d65f5f 60.6%, transparent 60.6%);\n",
              "}\n",
              "#T_9a576_row2_col3 {\n",
              "  width: 10em;\n",
              "  background: linear-gradient(90deg, #d65f5f 93.8%, transparent 93.8%);\n",
              "}\n",
              "#T_9a576_row2_col4, #T_9a576_row4_col6, #T_9a576_row5_col4 {\n",
              "  width: 10em;\n",
              "  background: linear-gradient(90deg, #d65f5f 59.6%, transparent 59.6%);\n",
              "}\n",
              "#T_9a576_row2_col5 {\n",
              "  width: 10em;\n",
              "  background: linear-gradient(90deg, #d65f5f 93.9%, transparent 93.9%);\n",
              "}\n",
              "#T_9a576_row2_col7 {\n",
              "  width: 10em;\n",
              "  background: linear-gradient(90deg, #d65f5f 93.5%, transparent 93.5%);\n",
              "}\n",
              "#T_9a576_row3_col1 {\n",
              "  width: 10em;\n",
              "  background: linear-gradient(90deg, #d65f5f 91.7%, transparent 91.7%);\n",
              "}\n",
              "#T_9a576_row3_col3 {\n",
              "  width: 10em;\n",
              "  background: linear-gradient(90deg, #d65f5f 91.1%, transparent 91.1%);\n",
              "}\n",
              "#T_9a576_row3_col4, #T_9a576_row5_col6, #T_9a576_row6_col4, #T_9a576_row6_col6 {\n",
              "  width: 10em;\n",
              "  background: linear-gradient(90deg, #d65f5f 59.7%, transparent 59.7%);\n",
              "}\n",
              "#T_9a576_row3_col5 {\n",
              "  width: 10em;\n",
              "  background: linear-gradient(90deg, #d65f5f 91.2%, transparent 91.2%);\n",
              "}\n",
              "#T_9a576_row3_col7 {\n",
              "  width: 10em;\n",
              "  background: linear-gradient(90deg, #d65f5f 90.7%, transparent 90.7%);\n",
              "}\n",
              "#T_9a576_row4_col1 {\n",
              "  width: 10em;\n",
              "  background: linear-gradient(90deg, #d65f5f 95.1%, transparent 95.1%);\n",
              "}\n",
              "#T_9a576_row4_col2 {\n",
              "  width: 10em;\n",
              "  background: linear-gradient(90deg, #d65f5f 60.3%, transparent 60.3%);\n",
              "}\n",
              "#T_9a576_row4_col3, #T_9a576_row4_col5 {\n",
              "  width: 10em;\n",
              "  background: linear-gradient(90deg, #d65f5f 94.9%, transparent 94.9%);\n",
              "}\n",
              "#T_9a576_row4_col4 {\n",
              "  width: 10em;\n",
              "  background: linear-gradient(90deg, #d65f5f 59.5%, transparent 59.5%);\n",
              "}\n",
              "#T_9a576_row4_col7 {\n",
              "  width: 10em;\n",
              "  background: linear-gradient(90deg, #d65f5f 94.6%, transparent 94.6%);\n",
              "}\n",
              "#T_9a576_row4_col8, #T_9a576_row8_col6 {\n",
              "  width: 10em;\n",
              "  background: linear-gradient(90deg, #d65f5f 58.9%, transparent 58.9%);\n",
              "}\n",
              "#T_9a576_row5_col1, #T_9a576_row6_col7 {\n",
              "  width: 10em;\n",
              "  background: linear-gradient(90deg, #d65f5f 88.9%, transparent 88.9%);\n",
              "}\n",
              "#T_9a576_row5_col3 {\n",
              "  width: 10em;\n",
              "  background: linear-gradient(90deg, #d65f5f 87.9%, transparent 87.9%);\n",
              "}\n",
              "#T_9a576_row5_col5 {\n",
              "  width: 10em;\n",
              "  background: linear-gradient(90deg, #d65f5f 88.1%, transparent 88.1%);\n",
              "}\n",
              "#T_9a576_row5_col7 {\n",
              "  width: 10em;\n",
              "  background: linear-gradient(90deg, #d65f5f 87.6%, transparent 87.6%);\n",
              "}\n",
              "#T_9a576_row5_col8, #T_9a576_row6_col8, #T_9a576_row8_col4 {\n",
              "  width: 10em;\n",
              "  background: linear-gradient(90deg, #d65f5f 58.8%, transparent 58.8%);\n",
              "}\n",
              "#T_9a576_row6_col1 {\n",
              "  width: 10em;\n",
              "  background: linear-gradient(90deg, #d65f5f 90.0%, transparent 90.0%);\n",
              "}\n",
              "#T_9a576_row6_col2 {\n",
              "  width: 10em;\n",
              "  background: linear-gradient(90deg, #d65f5f 60.5%, transparent 60.5%);\n",
              "}\n",
              "#T_9a576_row6_col3 {\n",
              "  width: 10em;\n",
              "  background: linear-gradient(90deg, #d65f5f 89.3%, transparent 89.3%);\n",
              "}\n",
              "#T_9a576_row6_col5 {\n",
              "  width: 10em;\n",
              "  background: linear-gradient(90deg, #d65f5f 89.4%, transparent 89.4%);\n",
              "}\n",
              "#T_9a576_row7_col1 {\n",
              "  width: 10em;\n",
              "  background: linear-gradient(90deg, #d65f5f 87.5%, transparent 87.5%);\n",
              "}\n",
              "#T_9a576_row7_col2 {\n",
              "  width: 10em;\n",
              "  background: linear-gradient(90deg, #d65f5f 60.2%, transparent 60.2%);\n",
              "}\n",
              "#T_9a576_row7_col3 {\n",
              "  width: 10em;\n",
              "  background: linear-gradient(90deg, #d65f5f 86.4%, transparent 86.4%);\n",
              "}\n",
              "#T_9a576_row7_col5 {\n",
              "  width: 10em;\n",
              "  background: linear-gradient(90deg, #d65f5f 86.6%, transparent 86.6%);\n",
              "}\n",
              "#T_9a576_row7_col7, #T_9a576_row8_col1 {\n",
              "  width: 10em;\n",
              "  background: linear-gradient(90deg, #d65f5f 86.0%, transparent 86.0%);\n",
              "}\n",
              "#T_9a576_row7_col8 {\n",
              "  width: 10em;\n",
              "  background: linear-gradient(90deg, #d65f5f 58.4%, transparent 58.4%);\n",
              "}\n",
              "#T_9a576_row8_col3 {\n",
              "  width: 10em;\n",
              "  background: linear-gradient(90deg, #d65f5f 84.8%, transparent 84.8%);\n",
              "}\n",
              "#T_9a576_row8_col5 {\n",
              "  width: 10em;\n",
              "  background: linear-gradient(90deg, #d65f5f 85.0%, transparent 85.0%);\n",
              "}\n",
              "#T_9a576_row8_col7 {\n",
              "  width: 10em;\n",
              "  background: linear-gradient(90deg, #d65f5f 84.4%, transparent 84.4%);\n",
              "}\n",
              "#T_9a576_row8_col8 {\n",
              "  width: 10em;\n",
              "  background: linear-gradient(90deg, #d65f5f 58.0%, transparent 58.0%);\n",
              "}\n",
              "</style>\n",
              "<table id=\"T_9a576\">\n",
              "  <thead>\n",
              "    <tr>\n",
              "      <th class=\"blank level0\" >&nbsp;</th>\n",
              "      <th id=\"T_9a576_level0_col0\" class=\"col_heading level0 col0\" >params</th>\n",
              "      <th id=\"T_9a576_level0_col1\" class=\"col_heading level0 col1\" >precision_train</th>\n",
              "      <th id=\"T_9a576_level0_col2\" class=\"col_heading level0 col2\" >precision_test</th>\n",
              "      <th id=\"T_9a576_level0_col3\" class=\"col_heading level0 col3\" >recall_train</th>\n",
              "      <th id=\"T_9a576_level0_col4\" class=\"col_heading level0 col4\" >recall_test</th>\n",
              "      <th id=\"T_9a576_level0_col5\" class=\"col_heading level0 col5\" >f1_train</th>\n",
              "      <th id=\"T_9a576_level0_col6\" class=\"col_heading level0 col6\" >f1_test</th>\n",
              "      <th id=\"T_9a576_level0_col7\" class=\"col_heading level0 col7\" >accuracy_train</th>\n",
              "      <th id=\"T_9a576_level0_col8\" class=\"col_heading level0 col8\" >accuracy_test</th>\n",
              "    </tr>\n",
              "  </thead>\n",
              "  <tbody>\n",
              "    <tr>\n",
              "      <th id=\"T_9a576_level0_row0\" class=\"row_heading level0 row0\" >2</th>\n",
              "      <td id=\"T_9a576_row0_col0\" class=\"data row0 col0\" >{'n_estimators': 600, 'xgb_learning_rate': 0.4}</td>\n",
              "      <td id=\"T_9a576_row0_col1\" class=\"data row0 col1\" >0.927410</td>\n",
              "      <td id=\"T_9a576_row0_col2\" class=\"data row0 col2\" >0.607835</td>\n",
              "      <td id=\"T_9a576_row0_col3\" class=\"data row0 col3\" >0.922228</td>\n",
              "      <td id=\"T_9a576_row0_col4\" class=\"data row0 col4\" >0.597951</td>\n",
              "      <td id=\"T_9a576_row0_col5\" class=\"data row0 col5\" >0.923366</td>\n",
              "      <td id=\"T_9a576_row0_col6\" class=\"data row0 col6\" >0.599382</td>\n",
              "      <td id=\"T_9a576_row0_col7\" class=\"data row0 col7\" >0.918978</td>\n",
              "      <td id=\"T_9a576_row0_col8\" class=\"data row0 col8\" >0.591934</td>\n",
              "    </tr>\n",
              "    <tr>\n",
              "      <th id=\"T_9a576_level0_row1\" class=\"row_heading level0 row1\" >7</th>\n",
              "      <td id=\"T_9a576_row1_col0\" class=\"data row1 col0\" >{'n_estimators': 800, 'xgb_learning_rate': 0.3}</td>\n",
              "      <td id=\"T_9a576_row1_col1\" class=\"data row1 col1\" >0.928269</td>\n",
              "      <td id=\"T_9a576_row1_col2\" class=\"data row1 col2\" >0.606927</td>\n",
              "      <td id=\"T_9a576_row1_col3\" class=\"data row1 col3\" >0.923561</td>\n",
              "      <td id=\"T_9a576_row1_col4\" class=\"data row1 col4\" >0.598282</td>\n",
              "      <td id=\"T_9a576_row1_col5\" class=\"data row1 col5\" >0.924467</td>\n",
              "      <td id=\"T_9a576_row1_col6\" class=\"data row1 col6\" >0.599298</td>\n",
              "      <td id=\"T_9a576_row1_col7\" class=\"data row1 col7\" >0.920164</td>\n",
              "      <td id=\"T_9a576_row1_col8\" class=\"data row1 col8\" >0.590451</td>\n",
              "    </tr>\n",
              "    <tr>\n",
              "      <th id=\"T_9a576_level0_row2\" class=\"row_heading level0 row2\" >5</th>\n",
              "      <td id=\"T_9a576_row2_col0\" class=\"data row2 col0\" >{'n_estimators': 700, 'xgb_learning_rate': 0.4}</td>\n",
              "      <td id=\"T_9a576_row2_col1\" class=\"data row2 col1\" >0.941597</td>\n",
              "      <td id=\"T_9a576_row2_col2\" class=\"data row2 col2\" >0.605946</td>\n",
              "      <td id=\"T_9a576_row2_col3\" class=\"data row2 col3\" >0.938497</td>\n",
              "      <td id=\"T_9a576_row2_col4\" class=\"data row2 col4\" >0.596146</td>\n",
              "      <td id=\"T_9a576_row2_col5\" class=\"data row2 col5\" >0.938943</td>\n",
              "      <td id=\"T_9a576_row2_col6\" class=\"data row2 col6\" >0.597887</td>\n",
              "      <td id=\"T_9a576_row2_col7\" class=\"data row2 col7\" >0.935439</td>\n",
              "      <td id=\"T_9a576_row2_col8\" class=\"data row2 col8\" >0.590006</td>\n",
              "    </tr>\n",
              "    <tr>\n",
              "      <th id=\"T_9a576_level0_row3\" class=\"row_heading level0 row3\" >4</th>\n",
              "      <td id=\"T_9a576_row3_col0\" class=\"data row3 col0\" >{'n_estimators': 700, 'xgb_learning_rate': 0.3}</td>\n",
              "      <td id=\"T_9a576_row3_col1\" class=\"data row3 col1\" >0.916908</td>\n",
              "      <td id=\"T_9a576_row3_col2\" class=\"data row3 col2\" >0.607280</td>\n",
              "      <td id=\"T_9a576_row3_col3\" class=\"data row3 col3\" >0.910702</td>\n",
              "      <td id=\"T_9a576_row3_col4\" class=\"data row3 col4\" >0.597497</td>\n",
              "      <td id=\"T_9a576_row3_col5\" class=\"data row3 col5\" >0.912059</td>\n",
              "      <td id=\"T_9a576_row3_col6\" class=\"data row3 col6\" >0.598907</td>\n",
              "      <td id=\"T_9a576_row3_col7\" class=\"data row3 col7\" >0.907212</td>\n",
              "      <td id=\"T_9a576_row3_col8\" class=\"data row3 col8\" >0.589858</td>\n",
              "    </tr>\n",
              "    <tr>\n",
              "      <th id=\"T_9a576_level0_row4\" class=\"row_heading level0 row4\" >8</th>\n",
              "      <td id=\"T_9a576_row4_col0\" class=\"data row4 col0\" >{'n_estimators': 800, 'xgb_learning_rate': 0.4}</td>\n",
              "      <td id=\"T_9a576_row4_col1\" class=\"data row4 col1\" >0.950880</td>\n",
              "      <td id=\"T_9a576_row4_col2\" class=\"data row4 col2\" >0.603013</td>\n",
              "      <td id=\"T_9a576_row4_col3\" class=\"data row4 col3\" >0.948917</td>\n",
              "      <td id=\"T_9a576_row4_col4\" class=\"data row4 col4\" >0.595077</td>\n",
              "      <td id=\"T_9a576_row4_col5\" class=\"data row4 col5\" >0.949017</td>\n",
              "      <td id=\"T_9a576_row4_col6\" class=\"data row4 col6\" >0.596288</td>\n",
              "      <td id=\"T_9a576_row4_col7\" class=\"data row4 col7\" >0.945969</td>\n",
              "      <td id=\"T_9a576_row4_col8\" class=\"data row4 col8\" >0.588820</td>\n",
              "    </tr>\n",
              "    <tr>\n",
              "      <th id=\"T_9a576_level0_row5\" class=\"row_heading level0 row5\" >6</th>\n",
              "      <td id=\"T_9a576_row5_col0\" class=\"data row5 col0\" >{'n_estimators': 800, 'xgb_learning_rate': 0.2}</td>\n",
              "      <td id=\"T_9a576_row5_col1\" class=\"data row5 col1\" >0.888728</td>\n",
              "      <td id=\"T_9a576_row5_col2\" class=\"data row5 col2\" >0.605992</td>\n",
              "      <td id=\"T_9a576_row5_col3\" class=\"data row5 col3\" >0.879063</td>\n",
              "      <td id=\"T_9a576_row5_col4\" class=\"data row5 col4\" >0.596220</td>\n",
              "      <td id=\"T_9a576_row5_col5\" class=\"data row5 col5\" >0.881204</td>\n",
              "      <td id=\"T_9a576_row5_col6\" class=\"data row5 col6\" >0.597030</td>\n",
              "      <td id=\"T_9a576_row5_col7\" class=\"data row5 col7\" >0.875772</td>\n",
              "      <td id=\"T_9a576_row5_col8\" class=\"data row5 col8\" >0.588227</td>\n",
              "    </tr>\n",
              "    <tr>\n",
              "      <th id=\"T_9a576_level0_row6\" class=\"row_heading level0 row6\" >1</th>\n",
              "      <td id=\"T_9a576_row6_col0\" class=\"data row6 col0\" >{'n_estimators': 600, 'xgb_learning_rate': 0.3}</td>\n",
              "      <td id=\"T_9a576_row6_col1\" class=\"data row6 col1\" >0.900106</td>\n",
              "      <td id=\"T_9a576_row6_col2\" class=\"data row6 col2\" >0.604811</td>\n",
              "      <td id=\"T_9a576_row6_col3\" class=\"data row6 col3\" >0.892841</td>\n",
              "      <td id=\"T_9a576_row6_col4\" class=\"data row6 col4\" >0.597087</td>\n",
              "      <td id=\"T_9a576_row6_col5\" class=\"data row6 col5\" >0.894336</td>\n",
              "      <td id=\"T_9a576_row6_col6\" class=\"data row6 col6\" >0.597340</td>\n",
              "      <td id=\"T_9a576_row6_col7\" class=\"data row6 col7\" >0.888922</td>\n",
              "      <td id=\"T_9a576_row6_col8\" class=\"data row6 col8\" >0.587633</td>\n",
              "    </tr>\n",
              "    <tr>\n",
              "      <th id=\"T_9a576_level0_row7\" class=\"row_heading level0 row7\" >3</th>\n",
              "      <td id=\"T_9a576_row7_col0\" class=\"data row7 col0\" >{'n_estimators': 700, 'xgb_learning_rate': 0.2}</td>\n",
              "      <td id=\"T_9a576_row7_col1\" class=\"data row7 col1\" >0.875101</td>\n",
              "      <td id=\"T_9a576_row7_col2\" class=\"data row7 col2\" >0.602057</td>\n",
              "      <td id=\"T_9a576_row7_col3\" class=\"data row7 col3\" >0.863566</td>\n",
              "      <td id=\"T_9a576_row7_col4\" class=\"data row7 col4\" >0.591748</td>\n",
              "      <td id=\"T_9a576_row7_col5\" class=\"data row7 col5\" >0.866265</td>\n",
              "      <td id=\"T_9a576_row7_col6\" class=\"data row7 col6\" >0.592442</td>\n",
              "      <td id=\"T_9a576_row7_col7\" class=\"data row7 col7\" >0.860497</td>\n",
              "      <td id=\"T_9a576_row7_col8\" class=\"data row7 col8\" >0.583926</td>\n",
              "    </tr>\n",
              "    <tr>\n",
              "      <th id=\"T_9a576_level0_row8\" class=\"row_heading level0 row8\" >0</th>\n",
              "      <td id=\"T_9a576_row8_col0\" class=\"data row8 col0\" >{'n_estimators': 600, 'xgb_learning_rate': 0.2}</td>\n",
              "      <td id=\"T_9a576_row8_col1\" class=\"data row8 col1\" >0.860253</td>\n",
              "      <td id=\"T_9a576_row8_col2\" class=\"data row8 col2\" >0.597836</td>\n",
              "      <td id=\"T_9a576_row8_col3\" class=\"data row8 col3\" >0.847514</td>\n",
              "      <td id=\"T_9a576_row8_col4\" class=\"data row8 col4\" >0.588494</td>\n",
              "      <td id=\"T_9a576_row8_col5\" class=\"data row8 col5\" >0.850372</td>\n",
              "      <td id=\"T_9a576_row8_col6\" class=\"data row8 col6\" >0.588537</td>\n",
              "      <td id=\"T_9a576_row8_col7\" class=\"data row8 col7\" >0.844085</td>\n",
              "      <td id=\"T_9a576_row8_col8\" class=\"data row8 col8\" >0.580219</td>\n",
              "    </tr>\n",
              "  </tbody>\n",
              "</table>\n"
            ],
            "text/plain": [
              "<pandas.io.formats.style.Styler at 0x7f9e58a0b670>"
            ]
          },
          "execution_count": 86,
          "metadata": {},
          "output_type": "execute_result"
        }
      ],
      "source": [
        "results = pd.DataFrame(results)\n",
        "results.sort_values('accuracy_test', ascending=False).head(10).style.bar(vmin=0, vmax=1)"
      ]
    },
    {
      "cell_type": "markdown",
      "id": "32db12ba",
      "metadata": {
        "id": "32db12ba"
      },
      "source": [
        "## 5.4.  Evaluation on the Train Sample & the Test Sample"
      ]
    },
    {
      "cell_type": "code",
      "execution_count": null,
      "id": "566f1c3a",
      "metadata": {
        "id": "566f1c3a",
        "outputId": "bd87e4bd-8207-47c8-ce3c-2af0add487df"
      },
      "outputs": [
        {
          "name": "stdout",
          "output_type": "stream",
          "text": [
            "              precision    recall  f1-score   support\n",
            "\n",
            "           0       0.99      0.94      0.96      2751\n",
            "           1       0.95      0.90      0.92      4899\n",
            "           2       0.85      0.97      0.91      3733\n",
            "           3       0.94      0.93      0.94      5584\n",
            "           4       0.99      0.95      0.97      3262\n",
            "\n",
            "    accuracy                           0.94     20229\n",
            "   macro avg       0.94      0.94      0.94     20229\n",
            "weighted avg       0.94      0.94      0.94     20229\n",
            "\n",
            "Balanced accuracy: 0.938\n"
          ]
        }
      ],
      "source": [
        "print(classification_report(y_true=y_train_num, y_pred=tf_pred_train))\n",
        "print('Balanced accuracy:', round(balanced_accuracy_score (y_true=y_train_num, y_pred=tf_pred_train), 3))"
      ]
    },
    {
      "cell_type": "code",
      "execution_count": null,
      "id": "5b70e5c2",
      "metadata": {
        "id": "5b70e5c2",
        "outputId": "c6dbcaf2-480f-413b-d13c-566b2316d0f5"
      },
      "outputs": [
        {
          "data": {
            "image/png": "[encoded data removed]",
            "text/plain": [
              "<Figure size 432x288 with 2 Axes>"
            ]
          },
          "metadata": {
            "image/png": {
              "height": 260,
              "width": 314
            }
          },
          "output_type": "display_data"
        }
      ],
      "source": [
        "ConfusionMatrixDisplay.from_predictions(y_true=y_train_num, y_pred=tf_pred_train)\n",
        "plt.xticks(rotation=70)\n",
        "plt.show()"
      ]
    },
    {
      "cell_type": "code",
      "execution_count": null,
      "id": "93a50edb",
      "metadata": {
        "id": "93a50edb",
        "outputId": "e958c474-351f-4e29-b7ee-065c844f777e"
      },
      "outputs": [
        {
          "name": "stdout",
          "output_type": "stream",
          "text": [
            "              precision    recall  f1-score   support\n",
            "\n",
            "           0       0.65      0.55      0.60       917\n",
            "           1       0.52      0.49      0.50      1634\n",
            "           2       0.63      0.77      0.69      1244\n",
            "           3       0.54      0.58      0.56      1862\n",
            "           4       0.69      0.60      0.64      1087\n",
            "\n",
            "    accuracy                           0.59      6744\n",
            "   macro avg       0.61      0.60      0.60      6744\n",
            "weighted avg       0.59      0.59      0.59      6744\n",
            "\n",
            "Balanced accuracy: 0.596\n"
          ]
        }
      ],
      "source": [
        "print(classification_report(y_true=y_test_num, y_pred=tf_pred_test))\n",
        "print('Balanced accuracy:', round(balanced_accuracy_score (y_true=y_test_num, y_pred=tf_pred_test), 3))"
      ]
    },
    {
      "cell_type": "code",
      "execution_count": null,
      "id": "cb5a83bd",
      "metadata": {
        "id": "cb5a83bd",
        "outputId": "b99f26e7-d545-4e0b-a9c4-c07e85328f4d"
      },
      "outputs": [
        {
          "data": {
            "image/png": "[encoded data removed]",
            "text/plain": [
              "<Figure size 432x288 with 2 Axes>"
            ]
          },
          "metadata": {
            "image/png": {
              "height": 260,
              "width": 314
            }
          },
          "output_type": "display_data"
        }
      ],
      "source": [
        "ConfusionMatrixDisplay.from_predictions(y_true=y_test_num, y_pred=tf_pred_test)\n",
        "plt.xticks(rotation=70)\n",
        "plt.show()"
      ]
    },
    {
      "cell_type": "markdown",
      "id": "cdf00184",
      "metadata": {
        "id": "cdf00184"
      },
      "source": [
        "# 6. Whole Sample training"
      ]
    },
    {
      "cell_type": "markdown",
      "id": "97b3844c",
      "metadata": {
        "id": "97b3844c"
      },
      "source": [
        "## `X` & `y` "
      ]
    },
    {
      "cell_type": "markdown",
      "id": "2a96274a",
      "metadata": {
        "id": "2a96274a"
      },
      "source": [
        "**Note:** after choosing an optimal model on the `corona_train.csv` splitting base, let's implement it on the `corona_test.csv`!"
      ]
    },
    {
      "cell_type": "code",
      "execution_count": null,
      "id": "f546880b",
      "metadata": {
        "id": "f546880b",
        "outputId": "c87f6495-d6f4-4b3d-d16a-46dd6aeed59d"
      },
      "outputs": [
        {
          "name": "stdout",
          "output_type": "stream",
          "text": [
            "CPU times: user 25min 54s, sys: 4.96 s, total: 25min 59s\n",
            "Wall time: 8min 49s\n"
          ]
        }
      ],
      "source": [
        "%%time\n",
        "pipeline.fit(X.CleanTweet, y_num)\n",
        "\n",
        "tf_pred = pipeline.predict(X.CleanTweet)"
      ]
    },
    {
      "cell_type": "code",
      "execution_count": null,
      "id": "03510e05",
      "metadata": {
        "id": "03510e05",
        "outputId": "512db5cd-e1ac-4a98-8b28-71a7608053f7"
      },
      "outputs": [
        {
          "name": "stdout",
          "output_type": "stream",
          "text": [
            "              precision    recall  f1-score   support\n",
            "\n",
            "           0       0.96      0.90      0.93      3668\n",
            "           1       0.91      0.85      0.88      6533\n",
            "           2       0.80      0.94      0.86      4977\n",
            "           3       0.89      0.89      0.89      7446\n",
            "           4       0.97      0.92      0.94      4349\n",
            "\n",
            "    accuracy                           0.90     26973\n",
            "   macro avg       0.91      0.90      0.90     26973\n",
            "weighted avg       0.90      0.90      0.90     26973\n",
            "\n",
            "Balanced accuracy: 0.901\n"
          ]
        }
      ],
      "source": [
        "print(classification_report(y_true=y_num, y_pred=tf_pred))\n",
        "print('Balanced accuracy:', round(balanced_accuracy_score (y_true=y_num, y_pred=tf_pred), 3))"
      ]
    },
    {
      "cell_type": "markdown",
      "id": "9b1ccb7a",
      "metadata": {
        "id": "9b1ccb7a"
      },
      "source": [
        "# 7. `test_data`"
      ]
    },
    {
      "cell_type": "markdown",
      "id": "1093f52b",
      "metadata": {
        "id": "1093f52b"
      },
      "source": [
        "## 7.1. Dataset & Missing values"
      ]
    },
    {
      "cell_type": "code",
      "execution_count": null,
      "id": "2b3fd60d",
      "metadata": {
        "id": "2b3fd60d",
        "outputId": "ae1f4c67-fd53-4cad-b96e-c877c8ff42b3"
      },
      "outputs": [
        {
          "data": {
            "text/html": [
              "<div>\n",
              "<style scoped>\n",
              "    .dataframe tbody tr th:only-of-type {\n",
              "        vertical-align: middle;\n",
              "    }\n",
              "\n",
              "    .dataframe tbody tr th {\n",
              "        vertical-align: top;\n",
              "    }\n",
              "\n",
              "    .dataframe thead th {\n",
              "        text-align: right;\n",
              "    }\n",
              "</style>\n",
              "<table border=\"1\" class=\"dataframe\">\n",
              "  <thead>\n",
              "    <tr style=\"text-align: right;\">\n",
              "      <th></th>\n",
              "      <th>UserName</th>\n",
              "      <th>ScreenName</th>\n",
              "      <th>Location</th>\n",
              "      <th>TweetAt</th>\n",
              "      <th>OriginalTweet</th>\n",
              "    </tr>\n",
              "    <tr>\n",
              "      <th>ID</th>\n",
              "      <th></th>\n",
              "      <th></th>\n",
              "      <th></th>\n",
              "      <th></th>\n",
              "      <th></th>\n",
              "    </tr>\n",
              "  </thead>\n",
              "  <tbody>\n",
              "    <tr>\n",
              "      <th>0</th>\n",
              "      <td>36853</td>\n",
              "      <td>81805</td>\n",
              "      <td>NaN</td>\n",
              "      <td>07-04-2020</td>\n",
              "      <td>https://t.co/2yMUPatIYU Wear a mask! Especiall...</td>\n",
              "    </tr>\n",
              "    <tr>\n",
              "      <th>1</th>\n",
              "      <td>37363</td>\n",
              "      <td>82315</td>\n",
              "      <td>NaN</td>\n",
              "      <td>08-04-2020</td>\n",
              "      <td>In light of Covid-19, Canada's insurers are re...</td>\n",
              "    </tr>\n",
              "    <tr>\n",
              "      <th>2</th>\n",
              "      <td>36506</td>\n",
              "      <td>81458</td>\n",
              "      <td>5280</td>\n",
              "      <td>07-04-2020</td>\n",
              "      <td>@ate_ted @SenTedCruz Supply &amp;amp; Demand. COVI...</td>\n",
              "    </tr>\n",
              "    <tr>\n",
              "      <th>3</th>\n",
              "      <td>17051</td>\n",
              "      <td>62003</td>\n",
              "      <td>Sydney, New South Wales</td>\n",
              "      <td>21-03-2020</td>\n",
              "      <td>Around 9 million people die of hunger and hung...</td>\n",
              "    </tr>\n",
              "    <tr>\n",
              "      <th>4</th>\n",
              "      <td>41636</td>\n",
              "      <td>86588</td>\n",
              "      <td>India</td>\n",
              "      <td>11-04-2020</td>\n",
              "      <td>Alarming but informative video everyone should...</td>\n",
              "    </tr>\n",
              "  </tbody>\n",
              "</table>\n",
              "</div>"
            ],
            "text/plain": [
              "    UserName  ScreenName                 Location     TweetAt  \\\n",
              "ID                                                              \n",
              "0      36853       81805                      NaN  07-04-2020   \n",
              "1      37363       82315                      NaN  08-04-2020   \n",
              "2      36506       81458                     5280  07-04-2020   \n",
              "3      17051       62003  Sydney, New South Wales  21-03-2020   \n",
              "4      41636       86588                    India  11-04-2020   \n",
              "\n",
              "                                        OriginalTweet  \n",
              "ID                                                     \n",
              "0   https://t.co/2yMUPatIYU Wear a mask! Especiall...  \n",
              "1   In light of Covid-19, Canada's insurers are re...  \n",
              "2   @ate_ted @SenTedCruz Supply &amp; Demand. COVI...  \n",
              "3   Around 9 million people die of hunger and hung...  \n",
              "4   Alarming but informative video everyone should...  "
            ]
          },
          "execution_count": 24,
          "metadata": {},
          "output_type": "execute_result"
        }
      ],
      "source": [
        "test_data = pd.read_csv('corona_test.csv', encoding='ISO-8859-1', index_col=0)\n",
        "test_data.head()"
      ]
    },
    {
      "cell_type": "code",
      "execution_count": null,
      "id": "dd7dc7ce",
      "metadata": {
        "id": "dd7dc7ce",
        "outputId": "e0c91285-e4a0-4772-f2b5-91a7046769cb"
      },
      "outputs": [
        {
          "data": {
            "text/plain": [
              "(17982, 5)"
            ]
          },
          "execution_count": 390,
          "metadata": {},
          "output_type": "execute_result"
        }
      ],
      "source": [
        "test_data.shape"
      ]
    },
    {
      "cell_type": "code",
      "execution_count": null,
      "id": "c7db8157",
      "metadata": {
        "id": "c7db8157"
      },
      "outputs": [],
      "source": [
        "# percentage of missing data\n",
        "(test_data.isna().sum() / len(test_data)).rename('percent of NA').to_frame().style.bar(vmax=1, vmin=0).format('{:.2%}')"
      ]
    },
    {
      "cell_type": "markdown",
      "id": "2e898aff",
      "metadata": {
        "id": "2e898aff"
      },
      "source": [
        "## 7.2. Data types & Prepsocessing & Converting"
      ]
    },
    {
      "cell_type": "code",
      "execution_count": null,
      "id": "20f89957",
      "metadata": {
        "id": "20f89957"
      },
      "outputs": [],
      "source": [
        "# converting to string\n",
        "test_data.UserName = test_data.UserName.astype(str)\n",
        "test_data.ScreenName = test_data.ScreenName.astype(str)\n",
        "test_data.TweetAt = pd.to_datetime(test_data.TweetAt)"
      ]
    },
    {
      "cell_type": "code",
      "execution_count": null,
      "id": "a8b10db0",
      "metadata": {
        "id": "a8b10db0"
      },
      "outputs": [],
      "source": [
        "test_data['month'] = test_data.TweetAt.dt.month\n",
        "test_data['day'] = test_data.TweetAt.dt.day\n",
        "test_data['dayofweek'] = test_data.TweetAt.dt.dayofweek\n",
        "test_data['weekday'] = test_data.TweetAt.dt.weekday\n",
        "test_data['tweetlength'] = test_data.OriginalTweet.str.len()"
      ]
    },
    {
      "cell_type": "markdown",
      "id": "ea6fba9c",
      "metadata": {
        "id": "ea6fba9c"
      },
      "source": [
        "### `CleanTweet`"
      ]
    },
    {
      "cell_type": "code",
      "execution_count": null,
      "id": "9e40e35a",
      "metadata": {
        "id": "9e40e35a",
        "outputId": "e3c49f82-8f0b-4cee-8cd2-505627eef086"
      },
      "outputs": [
        {
          "data": {
            "text/plain": [
              "'disrupt global supplychain be felt across world thank covid pandem recent week demand groceri item deliveri those item surg coronaviru wyijfwyen'"
            ]
          },
          "execution_count": 28,
          "metadata": {},
          "output_type": "execute_result"
        }
      ],
      "source": [
        "# for checking \n",
        "test_data['CleanTweet'][5]"
      ]
    },
    {
      "cell_type": "code",
      "execution_count": null,
      "id": "7215c068",
      "metadata": {
        "id": "7215c068"
      },
      "outputs": [],
      "source": [
        "# cleaning\n",
        "test_data['CleanTweet'] = test_data['OriginalTweet'].str.lower()\n",
        "\n",
        "test_data['CleanTweet'] = test_data['CleanTweet'].str.replace(\"[^a-zA-Z#]\", \" \") # base\n",
        "test_data['CleanTweet'] = test_data['CleanTweet'].apply(lambda x: x.replace('\\n', ' ')) # base\n",
        "\n",
        "test_data['CleanTweet'] = test_data['CleanTweet'].str.replace('[^A-Za-z0-9]+',' ', regex=True) # kaggle\n",
        "test_data['CleanTweet'] = test_data['CleanTweet'].str.replace(r\"http\\S+\", \"\", regex=True) # kaggle\n",
        "\n",
        "test_data['CleanTweet'] = np.vectorize(remove_pattern)(test_data['CleanTweet'], \"@[\\w]*\") # git\n",
        "test_data['CleanTweet'] = test_data['CleanTweet'].apply(lambda x: ' '.join([w for w in x.split() if len(w)>3])) # git\n",
        "\n",
        "# stemming\n",
        "tokenized_tweets = test_data['CleanTweet'].apply(lambda x: x.split()) \n",
        "stemmer = PorterStemmer() \n",
        "tokenized_tweets = tokenized_tweets.apply(lambda x: [stemmer.stem(i) for i in x]) \n",
        "\n",
        "for i in range(len(tokenized_tweets)):\n",
        "    tokenized_tweets[i] = ' '.join(tokenized_tweets[i])   \n",
        "test_data['CleanTweet'] = tokenized_tweets"
      ]
    },
    {
      "cell_type": "markdown",
      "id": "09a4a35e",
      "metadata": {
        "id": "09a4a35e"
      },
      "source": [
        "## 7.3. Prediction on `test_data`"
      ]
    },
    {
      "cell_type": "code",
      "execution_count": null,
      "id": "4c397caf",
      "metadata": {
        "id": "4c397caf"
      },
      "outputs": [],
      "source": [
        "tf_pred_test_data = pipeline.predict(test_data.CleanTweet)"
      ]
    },
    {
      "cell_type": "code",
      "execution_count": null,
      "id": "5119ca85",
      "metadata": {
        "id": "5119ca85",
        "outputId": "53892892-4d6d-49b6-8e0f-5bb8d7016222"
      },
      "outputs": [
        {
          "data": {
            "text/plain": [
              "array([4, 3, 1, ..., 2, 4, 3])"
            ]
          },
          "execution_count": 32,
          "metadata": {},
          "output_type": "execute_result"
        }
      ],
      "source": [
        "tf_pred_test_data"
      ]
    },
    {
      "cell_type": "markdown",
      "id": "f2bda1f5",
      "metadata": {
        "id": "f2bda1f5"
      },
      "source": [
        "**Note:** before submitting, let's convert back 5-classes numeric labels to the text ones."
      ]
    },
    {
      "cell_type": "code",
      "execution_count": null,
      "id": "704320ab",
      "metadata": {
        "id": "704320ab",
        "outputId": "a1341f8d-5178-4e17-9410-732e07e23665"
      },
      "outputs": [
        {
          "data": {
            "text/html": [
              "<div>\n",
              "<style scoped>\n",
              "    .dataframe tbody tr th:only-of-type {\n",
              "        vertical-align: middle;\n",
              "    }\n",
              "\n",
              "    .dataframe tbody tr th {\n",
              "        vertical-align: top;\n",
              "    }\n",
              "\n",
              "    .dataframe thead th {\n",
              "        text-align: right;\n",
              "    }\n",
              "</style>\n",
              "<table border=\"1\" class=\"dataframe\">\n",
              "  <thead>\n",
              "    <tr style=\"text-align: right;\">\n",
              "      <th></th>\n",
              "      <th>Sentiment</th>\n",
              "    </tr>\n",
              "    <tr>\n",
              "      <th>ID</th>\n",
              "      <th></th>\n",
              "    </tr>\n",
              "  </thead>\n",
              "  <tbody>\n",
              "    <tr>\n",
              "      <th>0</th>\n",
              "      <td>Extremely Positive</td>\n",
              "    </tr>\n",
              "    <tr>\n",
              "      <th>1</th>\n",
              "      <td>Positive</td>\n",
              "    </tr>\n",
              "    <tr>\n",
              "      <th>2</th>\n",
              "      <td>Negative</td>\n",
              "    </tr>\n",
              "    <tr>\n",
              "      <th>3</th>\n",
              "      <td>Extremely Negative</td>\n",
              "    </tr>\n",
              "    <tr>\n",
              "      <th>4</th>\n",
              "      <td>Extremely Positive</td>\n",
              "    </tr>\n",
              "    <tr>\n",
              "      <th>...</th>\n",
              "      <td>...</td>\n",
              "    </tr>\n",
              "    <tr>\n",
              "      <th>17977</th>\n",
              "      <td>Positive</td>\n",
              "    </tr>\n",
              "    <tr>\n",
              "      <th>17978</th>\n",
              "      <td>Neutral</td>\n",
              "    </tr>\n",
              "    <tr>\n",
              "      <th>17979</th>\n",
              "      <td>Neutral</td>\n",
              "    </tr>\n",
              "    <tr>\n",
              "      <th>17980</th>\n",
              "      <td>Extremely Positive</td>\n",
              "    </tr>\n",
              "    <tr>\n",
              "      <th>17981</th>\n",
              "      <td>Positive</td>\n",
              "    </tr>\n",
              "  </tbody>\n",
              "</table>\n",
              "<p>17982 rows × 1 columns</p>\n",
              "</div>"
            ],
            "text/plain": [
              "                Sentiment\n",
              "ID                       \n",
              "0      Extremely Positive\n",
              "1                Positive\n",
              "2                Negative\n",
              "3      Extremely Negative\n",
              "4      Extremely Positive\n",
              "...                   ...\n",
              "17977            Positive\n",
              "17978             Neutral\n",
              "17979             Neutral\n",
              "17980  Extremely Positive\n",
              "17981            Positive\n",
              "\n",
              "[17982 rows x 1 columns]"
            ]
          },
          "execution_count": 33,
          "metadata": {},
          "output_type": "execute_result"
        }
      ],
      "source": [
        "submission = pd.DataFrame(data = tf_pred_test_data, index = test_data.index,\n",
        "             columns=['Sentiment']).replace({0: 'Extremely Negative',\n",
        "                   1: 'Negative',\n",
        "                   2: 'Neutral',\n",
        "                   3: 'Positive',\n",
        "                   4: 'Extremely Positive'})\n",
        "submission"
      ]
    },
    {
      "cell_type": "code",
      "execution_count": null,
      "id": "51d9137f",
      "metadata": {
        "id": "51d9137f"
      },
      "outputs": [],
      "source": [
        "submission.to_csv('submission.csv')"
      ]
    }
  ],
  "metadata": {
    "kernelspec": {
      "display_name": "Python 3 (ipykernel)",
      "language": "python",
      "name": "python3"
    },
    "language_info": {
      "codemirror_mode": {
        "name": "ipython",
        "version": 3
      },
      "file_extension": ".py",
      "mimetype": "text/x-python",
      "name": "python",
      "nbconvert_exporter": "python",
      "pygments_lexer": "ipython3",
      "version": "3.9.6"
    },
    "varInspector": {
      "cols": {
        "lenName": 16,
        "lenType": 16,
        "lenVar": 40
      },
      "kernels_config": {
        "python": {
          "delete_cmd_postfix": "",
          "delete_cmd_prefix": "del ",
          "library": "var_list.py",
          "varRefreshCmd": "print(var_dic_list())"
        },
        "r": {
          "delete_cmd_postfix": ") ",
          "delete_cmd_prefix": "rm(",
          "library": "var_list.r",
          "varRefreshCmd": "cat(var_dic_list()) "
        }
      },
      "types_to_exclude": [
        "module",
        "function",
        "builtin_function_or_method",
        "instance",
        "_Feature"
      ],
      "window_display": false
    },
    "colab": {
      "provenance": [],
      "include_colab_link": true
    }
  },
  "nbformat": 4,
  "nbformat_minor": 5
}